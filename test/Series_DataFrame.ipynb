{
 "cells": [
  {
   "cell_type": "code",
   "execution_count": 1,
   "metadata": {},
   "outputs": [],
   "source": [
    "import pandas as pd\n",
    "import numpy as np"
   ]
  },
  {
   "cell_type": "code",
   "execution_count": 2,
   "metadata": {},
   "outputs": [
    {
     "name": "stdout",
     "output_type": "stream",
     "text": [
      "   A  B\n",
      "0  4  9\n",
      "1  4  9\n",
      "2  4  9\n"
     ]
    }
   ],
   "source": [
    "df = pd.DataFrame([[4, 9]] * 3, columns=['A', 'B'])\n",
    "print(df)"
   ]
  },
  {
   "cell_type": "code",
   "execution_count": 9,
   "metadata": {},
   "outputs": [
    {
     "name": "stdout",
     "output_type": "stream",
     "text": [
      "   A\n",
      "0  4\n",
      "1  4\n",
      "2  4\n",
      "pd_A.shape: (3, 1)\n",
      "\n",
      "0    4\n",
      "1    4\n",
      "2    4\n",
      "Name: A, dtype: int64\n",
      "pd_A['A'].shape: (3,)\n"
     ]
    }
   ],
   "source": [
    "pd_A = df[['A']]\n",
    "\n",
    "print(pd_A)\n",
    "print(f\"pd_A.shape: {pd_A.shape}\")\n",
    "print()\n",
    "print(pd_A['A'])\n",
    "print(f\"pd_A['A'].shape: {pd_A['A'].shape}\")"
   ]
  },
  {
   "cell_type": "code",
   "execution_count": 4,
   "metadata": {},
   "outputs": [
    {
     "name": "stdout",
     "output_type": "stream",
     "text": [
      "A    12\n",
      "B    27\n",
      "dtype: int64\n",
      "<class 'pandas.core.series.Series'>\n"
     ]
    }
   ],
   "source": [
    "print(df.apply(np.sum, axis=0))\n",
    "print(type(df.apply(np.sum, axis=0)))"
   ]
  },
  {
   "cell_type": "code",
   "execution_count": 5,
   "metadata": {},
   "outputs": [
    {
     "name": "stdout",
     "output_type": "stream",
     "text": [
      "0    13\n",
      "1    13\n",
      "2    13\n",
      "dtype: int64\n",
      "<class 'pandas.core.series.Series'>\n"
     ]
    }
   ],
   "source": [
    "print(df.apply(np.sum, axis=1))\n",
    "print(type(df.apply(np.sum, axis=1)))"
   ]
  }
 ],
 "metadata": {
  "kernelspec": {
   "display_name": "Python 3.9.7 ('tf26')",
   "language": "python",
   "name": "python3"
  },
  "language_info": {
   "codemirror_mode": {
    "name": "ipython",
    "version": 3
   },
   "file_extension": ".py",
   "mimetype": "text/x-python",
   "name": "python",
   "nbconvert_exporter": "python",
   "pygments_lexer": "ipython3",
   "version": "3.9.7"
  },
  "orig_nbformat": 4,
  "vscode": {
   "interpreter": {
    "hash": "1e329751ad3fbc78699a5e88abe00d39aafe605dca43acf9894240e004a03697"
   }
  }
 },
 "nbformat": 4,
 "nbformat_minor": 2
}
