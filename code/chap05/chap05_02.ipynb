{
 "cells": [
  {
   "cell_type": "markdown",
   "metadata": {},
   "source": [
    "# 5.2 분산분석\n",
    "\n",
    "5.2.1 이 절의 예제\n",
    "\n",
    "5.2.2 분산분석이 필요한 시기\n",
    "\n",
    "- **분산분석**은 평균값의 차이를 검정하는 방법입니다. ... 분산분석을 사용해야 할 때는 세 개 이상의 수준 간의 평균값에 차이가 있는지 검정할 때입니다.\n",
    "\n",
    "- 독립변수와 종속변수\n",
    "\n",
    "5.2.3 검정의 다중성 (문제)\n",
    "\n",
    "- 검정을 반복함으로써 유의미한 결과를 얻기 쉬워지는 문제를 **검정의 다중성**이라고 부릅니다. ... 검정을 2회 연속으로 했다고 합시다. ... 그러면 제1종 오류를 저지를 확률은 1 - (0.95 x 0.95) = 0.0975가 되어 거의 10%가 됩니다.\n",
    "\n",
    "5.2.4 분산분석의 직감적 사고방식 \n",
    "\n",
    "5.2.5 유의미한 차이가 있을 때와 없을 때의 바이올린플롯"
   ]
  },
  {
   "cell_type": "code",
   "execution_count": 1,
   "metadata": {},
   "outputs": [],
   "source": [
    "# sns.violinplot(x=\"weather\", y=\"beer\", data=weather_beer)"
   ]
  },
  {
   "cell_type": "markdown",
   "metadata": {},
   "source": [
    "5.2.6 분산분석의 직감적 사고방식: 오차 및 효과의 분리\n",
    "\n",
    "5.2.7 군간변동과 군내변동\n",
    "\n",
    "- 효과의 크기를 **군간변동**이라고 부릅니다.\n",
    "\n",
    "- 오차의 크기를 **군내변동**이라고 부릅니다.\n",
    "\n",
    "5.2.8 분석 준비"
   ]
  },
  {
   "cell_type": "code",
   "execution_count": 2,
   "metadata": {},
   "outputs": [],
   "source": [
    "import numpy as np\n",
    "import pandas as pd\n",
    "import scipy as sp\n",
    "\n",
    "import matplotlib.pyplot as plt\n",
    "import seaborn as sns\n",
    "sns.set()\n",
    "\n",
    "import statsmodels.formula.api as smf\n",
    "import statsmodels.api as sm\n",
    "\n",
    "%matplotlib inline"
   ]
  },
  {
   "cell_type": "markdown",
   "metadata": {},
   "source": [
    "5.2.9 데이터 작성과 표시"
   ]
  },
  {
   "cell_type": "code",
   "execution_count": 3,
   "metadata": {},
   "outputs": [
    {
     "name": "stdout",
     "output_type": "stream",
     "text": [
      "   beer weather\n",
      "0     6  cloudy\n",
      "1     8  cloudy\n",
      "2     2   rainy\n",
      "3     4   rainy\n",
      "4    10   sunny\n",
      "5    12   sunny\n"
     ]
    }
   ],
   "source": [
    "weather = [\"cloudy\", \"cloudy\", \"rainy\", \"rainy\", \"sunny\", \"sunny\"]\n",
    "beer = [6, 8, 2, 4, 10, 12]\n",
    "\n",
    "weather_beer = pd.DataFrame({\"beer\": beer, \"weather\": weather})\n",
    "print(weather_beer)"
   ]
  },
  {
   "cell_type": "code",
   "execution_count": 4,
   "metadata": {},
   "outputs": [
    {
     "data": {
      "text/plain": [
       "<AxesSubplot:xlabel='weather', ylabel='beer'>"
      ]
     },
     "execution_count": 4,
     "metadata": {},
     "output_type": "execute_result"
    },
    {
     "data": {
      "image/png": "[encoded data removed]",
      "text/plain": [
       "<Figure size 432x288 with 1 Axes>"
      ]
     },
     "metadata": {
      "needs_background": "light"
     },
     "output_type": "display_data"
    }
   ],
   "source": [
    "sns.boxplot(x=\"weather\", y=\"beer\", data=weather_beer)"
   ]
  },
  {
   "cell_type": "code",
   "execution_count": 5,
   "metadata": {},
   "outputs": [
    {
     "name": "stdout",
     "output_type": "stream",
     "text": [
      "         beer\n",
      "weather      \n",
      "cloudy      7\n",
      "rainy       3\n",
      "sunny      11\n"
     ]
    }
   ],
   "source": [
    "print(weather_beer.groupby(\"weather\").mean())"
   ]
  },
  {
   "cell_type": "markdown",
   "metadata": {},
   "source": [
    "5.2.10 분산분석(1): 군간 제곱과 군내 제곱 계산"
   ]
  },
  {
   "cell_type": "code",
   "execution_count": 6,
   "metadata": {},
   "outputs": [
    {
     "name": "stdout",
     "output_type": "stream",
     "text": [
      "군간 제곱합: 64.0\n"
     ]
    }
   ],
   "source": [
    "# 날씨에 의한 영향\n",
    "effect = [7, 7, 3, 3, 11, 11]\n",
    "\n",
    "# 군간 제곱합\n",
    "mu_effect = np.mean(effect)\n",
    "squares_model = np.sum((effect - mu_effect) ** 2)\n",
    "print(f\"군간 제곱합: {squares_model}\")"
   ]
  },
  {
   "cell_type": "code",
   "execution_count": 7,
   "metadata": {},
   "outputs": [
    {
     "name": "stdout",
     "output_type": "stream",
     "text": [
      "0   -1\n",
      "1    1\n",
      "2   -1\n",
      "3    1\n",
      "4   -1\n",
      "5    1\n",
      "Name: beer, dtype: int64\n",
      "\n",
      "군내 제곱합: 6\n"
     ]
    }
   ],
   "source": [
    "resid = weather_beer.beer - effect\n",
    "print(resid)\n",
    "print()\n",
    "\n",
    "# 군내 제곱합\n",
    "squares_resid = np.sum(resid ** 2)\n",
    "print(f\"군내 제곱합: {squares_resid}\")"
   ]
  },
  {
   "cell_type": "markdown",
   "metadata": {},
   "source": [
    "5.2.11 분산분석(2): 군간 분산과 군내 분산 계산"
   ]
  },
  {
   "cell_type": "code",
   "execution_count": 8,
   "metadata": {},
   "outputs": [
    {
     "name": "stdout",
     "output_type": "stream",
     "text": [
      "군간 평균제곱(분산): 32.0\n",
      "군내 평균제곱(분산): 2.0\n"
     ]
    }
   ],
   "source": [
    "df_model = 2\n",
    "df_resid = 3\n",
    "\n",
    "# 군간 평균제곱(분산)\n",
    "variance_model = squares_model / df_model\n",
    "print(f\"군간 평균제곱(분산): {variance_model}\")\n",
    "\n",
    "# 군내 평균제곱(분산)\n",
    "variance_resid = squares_resid / df_resid\n",
    "print(f\"군내 평균제곱(분산): {variance_resid}\")"
   ]
  },
  {
   "cell_type": "markdown",
   "metadata": {},
   "source": [
    "5.2.12 분산분석(3): *p*값 계산"
   ]
  },
  {
   "cell_type": "code",
   "execution_count": 9,
   "metadata": {},
   "outputs": [
    {
     "name": "stdout",
     "output_type": "stream",
     "text": [
      "F비: 16.0\n",
      "p-value: 0.02509457330439091\n"
     ]
    }
   ],
   "source": [
    "f_ratio = variance_model / variance_resid\n",
    "print(f\"F비: {f_ratio}\")\n",
    "\n",
    "p_value = 1 - sp.stats.f.cdf(x=f_ratio, dfn=df_model, dfd=df_resid)\n",
    "print(f\"p-value: {p_value}\")"
   ]
  },
  {
   "cell_type": "markdown",
   "metadata": {},
   "source": [
    "5.2.13 독립변수가 카테고리형인 일반선형모델\n",
    "\n",
    "5.2.14 더미변수\n",
    "\n",
    "5.2.15 statsmodels를 이용한 분산분석"
   ]
  },
  {
   "cell_type": "code",
   "execution_count": 10,
   "metadata": {},
   "outputs": [],
   "source": [
    "# 참고문헌: https://www.statsmodels.org/dev/example_formulas.html\n",
    "anova_model = smf.ols(\"beer ~ weather\", data=weather_beer).fit()"
   ]
  },
  {
   "cell_type": "code",
   "execution_count": 11,
   "metadata": {},
   "outputs": [
    {
     "name": "stdout",
     "output_type": "stream",
     "text": [
      "           df  sum_sq  mean_sq     F    PR(>F)\n",
      "weather   2.0    64.0     32.0  16.0  0.025095\n",
      "Residual  3.0     6.0      2.0   NaN       NaN\n"
     ]
    }
   ],
   "source": [
    "print(sm.stats.anova_lm(anova_model))"
   ]
  },
  {
   "cell_type": "code",
   "execution_count": 12,
   "metadata": {},
   "outputs": [
    {
     "name": "stdout",
     "output_type": "stream",
     "text": [
      "          sum_sq   df     F    PR(>F)\n",
      "weather     64.0  2.0  16.0  0.025095\n",
      "Residual     6.0  3.0   NaN       NaN\n"
     ]
    }
   ],
   "source": [
    "print(sm.stats.anova_lm(anova_model, typ=2))\n",
    "# sum_sq: 군간과 군내의 편차제곱합\n",
    "# df: 자유도\n",
    "# F: F비\n",
    "# PR(>F): p-value"
   ]
  },
  {
   "cell_type": "markdown",
   "metadata": {},
   "source": [
    "5.2.17 모델의 계수 해석"
   ]
  },
  {
   "cell_type": "code",
   "execution_count": 13,
   "metadata": {},
   "outputs": [
    {
     "name": "stdout",
     "output_type": "stream",
     "text": [
      "Intercept           7.0\n",
      "weather[T.rainy]   -4.0\n",
      "weather[T.sunny]    4.0\n",
      "dtype: float64\n"
     ]
    }
   ],
   "source": [
    "print(anova_model.params)"
   ]
  },
  {
   "cell_type": "markdown",
   "metadata": {},
   "source": [
    "5.2.18 모델을 사용해서 오차와 효과 분리하기"
   ]
  },
  {
   "cell_type": "code",
   "execution_count": 14,
   "metadata": {},
   "outputs": [
    {
     "name": "stdout",
     "output_type": "stream",
     "text": [
      "0     7.0\n",
      "1     7.0\n",
      "2     3.0\n",
      "3     3.0\n",
      "4    11.0\n",
      "5    11.0\n",
      "dtype: float64\n",
      "\n",
      "residuals: \n",
      "0   -1.0\n",
      "1    1.0\n",
      "2   -1.0\n",
      "3    1.0\n",
      "4   -1.0\n",
      "5    1.0\n",
      "dtype: float64\n"
     ]
    }
   ],
   "source": [
    "fitted = anova_model.fittedvalues\n",
    "print(fitted)\n",
    "print()\n",
    "print(\"residuals: \")\n",
    "print(anova_model.resid)"
   ]
  },
  {
   "cell_type": "markdown",
   "metadata": {},
   "source": [
    "5.2.19 회귀모델의 분산분석"
   ]
  },
  {
   "cell_type": "code",
   "execution_count": 15,
   "metadata": {},
   "outputs": [],
   "source": [
    "beer = pd.read_csv(\"../../data/5-1-1-beer.csv\")\n",
    "lm_model = smf.ols(formula=\"beer ~ temperature\", data=beer).fit()"
   ]
  },
  {
   "cell_type": "code",
   "execution_count": 16,
   "metadata": {},
   "outputs": [],
   "source": [
    "df_lm_model = 1\n",
    "df_lm_resid = 28"
   ]
  },
  {
   "cell_type": "code",
   "execution_count": 17,
   "metadata": {},
   "outputs": [
    {
     "name": "stdout",
     "output_type": "stream",
     "text": [
      "28.44698368850461\n"
     ]
    }
   ],
   "source": [
    "lm_effect = lm_model.fittedvalues\n",
    "lm_resid = lm_model.resid\n",
    "\n",
    "mu = np.mean(lm_effect)\n",
    "squares_lm_model = np.sum((lm_effect - mu) ** 2)\n",
    "variance_lm_model = squares_lm_model / df_lm_model\n",
    "\n",
    "squares_lm_resid = np.sum((lm_resid) ** 2)\n",
    "variance_lm_resid = squares_lm_resid / df_lm_resid\n",
    "\n",
    "f_value_lm = variance_lm_model / variance_lm_resid\n",
    "\n",
    "print(f_value_lm)"
   ]
  },
  {
   "cell_type": "code",
   "execution_count": 18,
   "metadata": {},
   "outputs": [
    {
     "name": "stdout",
     "output_type": "stream",
     "text": [
      "                  sum_sq    df          F    PR(>F)\n",
      "temperature  1651.532489   1.0  28.446984  0.000011\n",
      "Residual     1625.582178  28.0        NaN       NaN\n"
     ]
    }
   ],
   "source": [
    "print(sm.stats.anova_lm(lm_model, typ=2))"
   ]
  },
  {
   "cell_type": "code",
   "execution_count": 19,
   "metadata": {},
   "outputs": [
    {
     "name": "stdout",
     "output_type": "stream",
     "text": [
      "                            OLS Regression Results                            \n",
      "==============================================================================\n",
      "Dep. Variable:                   beer   R-squared:                       0.504\n",
      "Model:                            OLS   Adj. R-squared:                  0.486\n",
      "Method:                 Least Squares   F-statistic:                     28.45\n",
      "Date:                Tue, 19 Oct 2021   Prob (F-statistic):           1.11e-05\n",
      "Time:                        13:06:25   Log-Likelihood:                -102.45\n",
      "No. Observations:                  30   AIC:                             208.9\n",
      "Df Residuals:                      28   BIC:                             211.7\n",
      "Df Model:                           1                                         \n",
      "Covariance Type:            nonrobust                                         \n",
      "===============================================================================\n",
      "                  coef    std err          t      P>|t|      [0.025      0.975]\n",
      "-------------------------------------------------------------------------------\n",
      "Intercept      34.6102      3.235     10.699      0.000      27.984      41.237\n",
      "temperature     0.7654      0.144      5.334      0.000       0.471       1.059\n",
      "==============================================================================\n",
      "Omnibus:                        0.587   Durbin-Watson:                   1.960\n",
      "Prob(Omnibus):                  0.746   Jarque-Bera (JB):                0.290\n",
      "Skew:                          -0.240   Prob(JB):                        0.865\n",
      "Kurtosis:                       2.951   Cond. No.                         52.5\n",
      "==============================================================================\n",
      "\n",
      "Notes:\n",
      "[1] Standard Errors assume that the covariance matrix of the errors is correctly specified.\n"
     ]
    }
   ],
   "source": [
    "print(lm_model.summary())"
   ]
  },
  {
   "cell_type": "markdown",
   "metadata": {},
   "source": [
    "참고문헌: \n",
    "\n",
    "[1] 파이썬으로 배우는 통계학 교과서; 바바 신야 지음, 윤옹식 옮김; 한빛미디어 (2020)"
   ]
  }
 ],
 "metadata": {
  "interpreter": {
   "hash": "6fd3abd944a776c12a16276977a01ef02f4739db3bcb0515bf87bc655718b495"
  },
  "kernelspec": {
   "display_name": "Python 3.7.9 64-bit",
   "name": "python3"
  },
  "language_info": {
   "codemirror_mode": {
    "name": "ipython",
    "version": 3
   },
   "file_extension": ".py",
   "mimetype": "text/x-python",
   "name": "python",
   "nbconvert_exporter": "python",
   "pygments_lexer": "ipython3",
   "version": "3.9.7"
  },
  "orig_nbformat": 4
 },
 "nbformat": 4,
 "nbformat_minor": 2
}
