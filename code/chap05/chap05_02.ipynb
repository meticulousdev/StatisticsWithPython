{
 "cells": [
  {
   "cell_type": "markdown",
   "metadata": {},
   "source": [
    "# 5.2 분산분석\n",
    "\n",
    "5.2.1 이 절의 예제\n",
    "\n",
    "5.2.2 분산분석이 필요한 시기\n",
    "\n",
    "- **분산분석**은 평균값의 차이를 검정하는 방법입니다. ... 분산분석을 사용해야 할 때는 세 개 이상의 수준 간의 평균값에 차이가 있는지 검정할 때입니다.\n",
    "\n",
    "- 독립변수와 종속변수\n",
    "\n",
    "5.2.3 검정의 다중성 (문제)\n",
    "\n",
    "- 검정을 반복함으로써 유의미한 결과를 얻기 쉬워지는 문제를 **검정의 다중성**이라고 부릅니다. ... 검정을 2회 연속으로 했다고 합시다. ... 그러면 제1종 오류를 저지를 확률은 1 - (0.95 x 0.95) = 0.0975가 되어 거의 10%가 됩니다.\n",
    "\n",
    "5.2.4 분산분석의 직감적 사고방식 \n",
    "\n",
    "$$F비 = {{효과의 분산 크기} \\over {오차의 분산 크기}}$$\n",
    "\n",
    "5.2.5 유의미한 차이가 있을 때와 없을 때의 바이올린플롯\n",
    "\n",
    "![](violin_plot.png)\n",
    "\n",
    "5.2.6 분산분석의 직감적 사고방식: 오차 및 효과의 분리\n",
    "\n",
    "5.2.7 군간변동과 군내변동\n",
    "\n",
    "- 효과의 크기를 **군간변동**이라고 부릅니다.\n",
    "\n",
    "- 오차의 크기를 **군내변동**이라고 부릅니다.\n",
    "\n",
    "5.2.8 분석 준비"
   ]
  },
  {
   "cell_type": "code",
   "execution_count": 1,
   "metadata": {},
   "outputs": [],
   "source": [
    "import numpy as np\n",
    "import pandas as pd\n",
    "import scipy as sp\n",
    "\n",
    "import matplotlib.pyplot as plt\n",
    "import seaborn as sns\n",
    "sns.set()\n",
    "\n",
    "import statsmodels.formula.api as smf\n",
    "import statsmodels.api as sm\n",
    "\n",
    "%matplotlib inline"
   ]
  },
  {
   "cell_type": "markdown",
   "metadata": {},
   "source": [
    "5.2.9 데이터 작성과 표시"
   ]
  },
  {
   "cell_type": "code",
   "execution_count": 2,
   "metadata": {},
   "outputs": [
    {
     "name": "stdout",
     "output_type": "stream",
     "text": [
      "   beer weather\n",
      "0     6  cloudy\n",
      "1     8  cloudy\n",
      "2     2   rainy\n",
      "3     4   rainy\n",
      "4    10   sunny\n",
      "5    12   sunny\n"
     ]
    }
   ],
   "source": [
    "weather = [\"cloudy\", \"cloudy\", \"rainy\", \"rainy\", \"sunny\", \"sunny\"]\n",
    "beer = [6, 8, 2, 4, 10, 12]\n",
    "\n",
    "weather_beer = pd.DataFrame({\"beer\": beer, \"weather\": weather})\n",
    "print(weather_beer)"
   ]
  },
  {
   "cell_type": "code",
   "execution_count": 3,
   "metadata": {},
   "outputs": [
    {
     "data": {
      "text/plain": [
       "<AxesSubplot:xlabel='weather', ylabel='beer'>"
      ]
     },
     "execution_count": 3,
     "metadata": {},
     "output_type": "execute_result"
    },
    {
     "data": {
      "image/png": "[encoded data removed]",
      "text/plain": [
       "<Figure size 432x288 with 1 Axes>"
      ]
     },
     "metadata": {
      "needs_background": "light"
     },
     "output_type": "display_data"
    }
   ],
   "source": [
    "# sns.violinplot(x=\"weather\", y=\"beer\", data=weather_beer)"
   ]
  },
  {
   "cell_type": "code",
   "execution_count": 4,
   "metadata": {},
   "outputs": [
    {
     "data": {
      "text/plain": [
       "<AxesSubplot:xlabel='weather', ylabel='beer'>"
      ]
     },
     "execution_count": 4,
     "metadata": {},
     "output_type": "execute_result"
    },
    {
     "data": {
      "image/png": "[encoded data removed]",
      "text/plain": [
       "<Figure size 432x288 with 1 Axes>"
      ]
     },
     "metadata": {
      "needs_background": "light"
     },
     "output_type": "display_data"
    }
   ],
   "source": [
    "sns.boxplot(x=\"weather\", y=\"beer\", data=weather_beer)"
   ]
  },
  {
   "cell_type": "code",
   "execution_count": 5,
   "metadata": {},
   "outputs": [
    {
     "name": "stdout",
     "output_type": "stream",
     "text": [
      "         beer\n",
      "weather      \n",
      "cloudy      7\n",
      "rainy       3\n",
      "sunny      11\n"
     ]
    }
   ],
   "source": [
    "print(weather_beer.groupby(\"weather\").mean())"
   ]
  },
  {
   "cell_type": "markdown",
   "metadata": {},
   "source": [
    "5.2.10 분산분석(1): 군간 제곱과 군내 제곱 계산"
   ]
  },
  {
   "cell_type": "code",
   "execution_count": 6,
   "metadata": {},
   "outputs": [
    {
     "name": "stdout",
     "output_type": "stream",
     "text": [
      "군간 제곱합: 64.0\n"
     ]
    }
   ],
   "source": [
    "# 날씨에 의한 영향\n",
    "effect = [7, 7, 3, 3, 11, 11]\n",
    "\n",
    "# 군간 제곱합\n",
    "mu_effect = np.mean(effect)\n",
    "squares_model = np.sum((effect - mu_effect) ** 2)\n",
    "print(f\"군간 제곱합: {squares_model}\")"
   ]
  },
  {
   "cell_type": "code",
   "execution_count": 7,
   "metadata": {},
   "outputs": [
    {
     "name": "stdout",
     "output_type": "stream",
     "text": [
      "0   -1\n",
      "1    1\n",
      "2   -1\n",
      "3    1\n",
      "4   -1\n",
      "5    1\n",
      "Name: beer, dtype: int64\n",
      "\n",
      "군내 제곱합: 6\n"
     ]
    }
   ],
   "source": [
    "resid = weather_beer.beer - effect\n",
    "print(resid)\n",
    "print()\n",
    "\n",
    "# 군내 제곱합\n",
    "squares_resid = np.sum(resid ** 2)\n",
    "print(f\"군내 제곱합: {squares_resid}\")"
   ]
  },
  {
   "cell_type": "markdown",
   "metadata": {},
   "source": [
    "5.2.11 분산분석(2): 군간 분산과 군내 분산 계산"
   ]
  },
  {
   "cell_type": "code",
   "execution_count": 8,
   "metadata": {},
   "outputs": [
    {
     "name": "stdout",
     "output_type": "stream",
     "text": [
      "군간 평균제곱(분산): 32.0\n",
      "군내 평균제곱(분산): 2.0\n"
     ]
    }
   ],
   "source": [
    "df_model = 2\n",
    "df_resid = 3\n",
    "\n",
    "# 군간 평균제곱(분산)\n",
    "variance_model = squares_model / df_model\n",
    "print(f\"군간 평균제곱(분산): {variance_model}\")\n",
    "\n",
    "# 군내 평균제곱(분산)\n",
    "variance_resid = squares_resid / df_resid\n",
    "print(f\"군내 평균제곱(분산): {variance_resid}\")"
   ]
  },
  {
   "cell_type": "markdown",
   "metadata": {},
   "source": [
    "5.2.12 분산분석(3): *p*값 계산"
   ]
  },
  {
   "cell_type": "code",
   "execution_count": 9,
   "metadata": {},
   "outputs": [
    {
     "name": "stdout",
     "output_type": "stream",
     "text": [
      "F비: 16.0\n",
      "p-value: 0.02509457330439091\n"
     ]
    }
   ],
   "source": [
    "f_ratio = variance_model / variance_resid\n",
    "print(f\"F비: {f_ratio}\")\n",
    "\n",
    "p_value = 1 - sp.stats.f.cdf(x=f_ratio, dfn=df_model, dfd=df_resid)\n",
    "print(f\"p-value: {p_value}\")"
   ]
  },
  {
   "cell_type": "markdown",
   "metadata": {},
   "source": [
    "참고문헌: \n",
    "\n",
    "[1] 파이썬으로 배우는 통계학 교과서; 바바 신야 지음, 윤옹식 옮김; 한빛미디어 (2020)"
   ]
  }
 ],
 "metadata": {
  "interpreter": {
   "hash": "6fd3abd944a776c12a16276977a01ef02f4739db3bcb0515bf87bc655718b495"
  },
  "kernelspec": {
   "display_name": "Python 3.7.9 64-bit",
   "name": "python3"
  },
  "language_info": {
   "codemirror_mode": {
    "name": "ipython",
    "version": 3
   },
   "file_extension": ".py",
   "mimetype": "text/x-python",
   "name": "python",
   "nbconvert_exporter": "python",
   "pygments_lexer": "ipython3",
   "version": "3.7.9"
  },
  "orig_nbformat": 4
 },
 "nbformat": 4,
 "nbformat_minor": 2
}
