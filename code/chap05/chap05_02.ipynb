{
 "cells": [
  {
   "cell_type": "markdown",
   "source": [
    "# 5.2 분산분석\n",
    "\n",
    "5.2.1 이 절의 예제\n",
    "\n",
    "5.2.2 분산분석이 필요한 시기\n",
    "\n",
    "5.2.3 검정의 다중성\n",
    "\n",
    "5.2.4 분산분석의 직감적 사고방식 \n",
    "\n",
    "5.2.5 유의미한 차이가 있을 때와 없을 때의 바이올린플롯\n",
    "\n",
    "5.2.6 분산분석의 직감적 사고방식: 오차 및 효과의 분리\n",
    "\n",
    "5.2.7 군간변동과 군내변동\n",
    "\n",
    "5.2.8 분석 준비"
   ],
   "metadata": {}
  },
  {
   "cell_type": "code",
   "execution_count": null,
   "source": [
    "import numpy as np\n",
    "import pandas as pd\n",
    "import scipy as sp\n",
    "\n",
    "import matplotlib.pyplot as plt\n",
    "import seaborn as sns\n",
    "sns.set()\n",
    "\n",
    "import statsmodels.formula.api as smf\n",
    "import statsmodels.api as sm\n",
    "\n",
    "%matplotlib inline"
   ],
   "outputs": [],
   "metadata": {}
  },
  {
   "cell_type": "markdown",
   "source": [
    "5.2.9 데이터 작성과 표시"
   ],
   "metadata": {}
  },
  {
   "cell_type": "code",
   "execution_count": null,
   "source": [
    "weather = [\"cloudy\", \"cloudy\", \"rainy\", \"rainy\", \"sunny\", \"sunny\"]\n",
    "beer = [6, 8, 2, 4, 10, 12]"
   ],
   "outputs": [],
   "metadata": {}
  }
 ],
 "metadata": {
  "orig_nbformat": 4,
  "language_info": {
   "name": "python",
   "version": "3.7.12"
  },
  "kernelspec": {
   "name": "python3",
   "display_name": "Python 3.7.12 64-bit"
  },
  "interpreter": {
   "hash": "fd69f43f58546b570e94fd7eba7b65e6bcc7a5bbc4eab0408017d18902915d69"
  }
 },
 "nbformat": 4,
 "nbformat_minor": 2
}