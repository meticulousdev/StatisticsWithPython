{
 "nbformat": 4,
 "nbformat_minor": 0,
 "metadata": {
  "orig_nbformat": 4,
  "language_info": {
   "name": "python",
   "version": "3.7.9",
   "mimetype": "text/x-python",
   "codemirror_mode": {
    "name": "ipython",
    "version": 3
   },
   "pygments_lexer": "ipython3",
   "nbconvert_exporter": "python",
   "file_extension": ".py"
  },
  "kernelspec": {
   "name": "python3",
   "language": "python",
   "display_name": "Python 3 (ipykernel)"
  },
  "interpreter": {
   "hash": "5d874692de9bc9eeb727ddf948f6826ddf9dbe408169bde9441b83e678dc7e6c"
  },
  "colab": {
   "name": "chap05_01.ipynb",
   "provenance": [],
   "collapsed_sections": []
  }
 },
 "cells": [
  {
   "cell_type": "markdown",
   "metadata": {
    "id": "2uhx-1u8DMtD"
   },
   "source": [
    "# Chapter 5 정규선형모델\n",
    "\n",
    "# 5.1 연속형 독립변수가 하나인 모델 (단순회귀) \n",
    "\n",
    "5.1.1 분석 준비"
   ]
  },
  {
   "cell_type": "code",
   "metadata": {
    "colab": {
     "base_uri": "https://localhost:8080/"
    },
    "id": "bzU9DN3ODMtG",
    "executionInfo": {
     "status": "ok",
     "timestamp": 1631031942900,
     "user_tz": -540,
     "elapsed": 66382,
     "user": {
      "displayName": "Seung Ji Lim",
      "photoUrl": "https://lh3.googleusercontent.com/a-/AOh14Ggja2S2ZXL6GaizTX8M8NvmaX43KB7Nv2UuBN-Q=s64",
      "userId": "13658689164859790992"
     }
    },
    "outputId": "f53de269-8437-4397-c3e0-a2ca132e27f5"
   },
   "source": [
    "# from google.colab import drive\n",
    "# drive.mount('/content/drive')\n",
    "#\n",
    "# %cd /content/drive/MyDrive/Colab\\ Notebooks/StatisticsWithPython/code/chap05"
   ],
   "execution_count": 20,
   "outputs": []
  },
  {
   "cell_type": "code",
   "metadata": {
    "colab": {
     "base_uri": "https://localhost:8080/"
    },
    "id": "2xP0tW-zDMtH",
    "executionInfo": {
     "status": "ok",
     "timestamp": 1631031944749,
     "user_tz": -540,
     "elapsed": 1866,
     "user": {
      "displayName": "Seung Ji Lim",
      "photoUrl": "https://lh3.googleusercontent.com/a-/AOh14Ggja2S2ZXL6GaizTX8M8NvmaX43KB7Nv2UuBN-Q=s64",
      "userId": "13658689164859790992"
     }
    },
    "outputId": "35ea6ed8-b8ed-4fd3-f89a-55dd62650e25"
   },
   "source": [
    "import numpy as np\n",
    "import pandas as pd\n",
    "import scipy as sp\n",
    "import scipy.stats as stats\n",
    "\n",
    "import matplotlib.pyplot as plt\n",
    "import seaborn as sns\n",
    "sns.set()\n",
    "\n",
    "import statsmodels.formula.api as smf\n",
    "import statsmodels.api as sm\n",
    "\n",
    "%matplotlib inline"
   ],
   "execution_count": 21,
   "outputs": []
  },
  {
   "cell_type": "markdown",
   "metadata": {
    "id": "KodfHvkmDMtH"
   },
   "source": [
    "5.1.2 데이터 읽어 들이기와 표시"
   ]
  },
  {
   "cell_type": "code",
   "metadata": {
    "colab": {
     "base_uri": "https://localhost:8080/"
    },
    "id": "JMqIeeG3DMtI",
    "executionInfo": {
     "status": "ok",
     "timestamp": 1631031945162,
     "user_tz": -540,
     "elapsed": 425,
     "user": {
      "displayName": "Seung Ji Lim",
      "photoUrl": "https://lh3.googleusercontent.com/a-/AOh14Ggja2S2ZXL6GaizTX8M8NvmaX43KB7Nv2UuBN-Q=s64",
      "userId": "13658689164859790992"
     }
    },
    "outputId": "7f3a08c3-070f-4480-91f3-082fda54bf34"
   },
   "source": [
    "beer = pd.read_csv(\"../../data/5-1-1-beer.csv\")\n",
    "print(beer.head())"
   ],
   "execution_count": 22,
   "outputs": [
    {
     "name": "stdout",
     "output_type": "stream",
     "text": [
      "   beer  temperature\n",
      "0  45.3         20.5\n",
      "1  59.3         25.0\n",
      "2  40.4         10.0\n",
      "3  38.0         26.9\n",
      "4  37.0         15.8\n"
     ]
    }
   ]
  },
  {
   "cell_type": "code",
   "metadata": {
    "colab": {
     "base_uri": "https://localhost:8080/",
     "height": 460
    },
    "id": "EPKIiex7DMtJ",
    "executionInfo": {
     "status": "ok",
     "timestamp": 1631031946319,
     "user_tz": -540,
     "elapsed": 1159,
     "user": {
      "displayName": "Seung Ji Lim",
      "photoUrl": "https://lh3.googleusercontent.com/a-/AOh14Ggja2S2ZXL6GaizTX8M8NvmaX43KB7Nv2UuBN-Q=s64",
      "userId": "13658689164859790992"
     }
    },
    "outputId": "39cdbb9a-b32a-4ab7-cd43-b46a8312c0af"
   },
   "source": [
    "graph = sns.jointplot(x=\"temperature\", y=\"beer\", data=beer)\n",
    "\n",
    "x = beer[\"temperature\"]\n",
    "y = beer[\"beer\"]\n",
    "\n",
    "r, p = stats.pearsonr(x, y)\n",
    "\n",
    "phantom, = graph.ax_joint.plot([], [], linestyle=\"\", alpha=0)\n",
    "graph.ax_joint.legend([phantom],[f'r={r:f}, p={p:f}'])"
   ],
   "execution_count": 23,
   "outputs": [
    {
     "data": {
      "text/plain": "<matplotlib.legend.Legend at 0x2bbfe009f88>"
     },
     "execution_count": 23,
     "metadata": {},
     "output_type": "execute_result"
    },
    {
     "data": {
      "text/plain": "<Figure size 432x432 with 3 Axes>",
      "image/png": "[encoded data removed]"
     },
     "metadata": {
      "needs_background": "light"
     },
     "output_type": "display_data"
    }
   ]
  },
  {
   "cell_type": "markdown",
   "metadata": {
    "id": "DREFVVMcDMtJ"
   },
   "source": [
    "5.1.3 모델 구축\n",
    "\n",
    "5.1.4 statsmodels를 이용한 모델링"
   ]
  },
  {
   "cell_type": "code",
   "metadata": {
    "id": "sWH2_1mJDMtK",
    "executionInfo": {
     "status": "ok",
     "timestamp": 1631031946320,
     "user_tz": -540,
     "elapsed": 25,
     "user": {
      "displayName": "Seung Ji Lim",
      "photoUrl": "https://lh3.googleusercontent.com/a-/AOh14Ggja2S2ZXL6GaizTX8M8NvmaX43KB7Nv2UuBN-Q=s64",
      "userId": "13658689164859790992"
     }
    }
   },
   "source": [
    "lm_model = smf.ols(formula = \"beer ~ temperature\", data=beer).fit()"
   ],
   "execution_count": 24,
   "outputs": []
  },
  {
   "cell_type": "markdown",
   "metadata": {
    "id": "oHT2iHP-EumC"
   },
   "source": [
    "5.1.5 추정 결과 표시와 계수 검정"
   ]
  },
  {
   "cell_type": "code",
   "metadata": {
    "colab": {
     "base_uri": "https://localhost:8080/"
    },
    "id": "HFwekXOXEumC",
    "executionInfo": {
     "status": "ok",
     "timestamp": 1631031946321,
     "user_tz": -540,
     "elapsed": 21,
     "user": {
      "displayName": "Seung Ji Lim",
      "photoUrl": "https://lh3.googleusercontent.com/a-/AOh14Ggja2S2ZXL6GaizTX8M8NvmaX43KB7Nv2UuBN-Q=s64",
      "userId": "13658689164859790992"
     }
    },
    "outputId": "3ca15268-b76f-4625-dea1-ae5101728d1f"
   },
   "source": [
    "print(lm_model.summary())"
   ],
   "execution_count": 25,
   "outputs": [
    {
     "name": "stdout",
     "output_type": "stream",
     "text": [
      "                            OLS Regression Results                            \n",
      "==============================================================================\n",
      "Dep. Variable:                   beer   R-squared:                       0.504\n",
      "Model:                            OLS   Adj. R-squared:                  0.486\n",
      "Method:                 Least Squares   F-statistic:                     28.45\n",
      "Date:                Thu, 30 Sep 2021   Prob (F-statistic):           1.11e-05\n",
      "Time:                        00:04:41   Log-Likelihood:                -102.45\n",
      "No. Observations:                  30   AIC:                             208.9\n",
      "Df Residuals:                      28   BIC:                             211.7\n",
      "Df Model:                           1                                         \n",
      "Covariance Type:            nonrobust                                         \n",
      "===============================================================================\n",
      "                  coef    std err          t      P>|t|      [0.025      0.975]\n",
      "-------------------------------------------------------------------------------\n",
      "Intercept      34.6102      3.235     10.699      0.000      27.984      41.237\n",
      "temperature     0.7654      0.144      5.334      0.000       0.471       1.059\n",
      "==============================================================================\n",
      "Omnibus:                        0.587   Durbin-Watson:                   1.960\n",
      "Prob(Omnibus):                  0.746   Jarque-Bera (JB):                0.290\n",
      "Skew:                          -0.240   Prob(JB):                        0.865\n",
      "Kurtosis:                       2.951   Cond. No.                         52.5\n",
      "==============================================================================\n",
      "\n",
      "Notes:\n",
      "[1] Standard Errors assume that the covariance matrix of the errors is correctly specified.\n"
     ]
    }
   ]
  },
  {
   "cell_type": "markdown",
   "source": [
    "5.1.6 summary 함수의 출력 내용 설명\n",
    "\n",
    "5.1.7 AIC를 이용한 모델 선택"
   ],
   "metadata": {
    "collapsed": false,
    "pycharm": {
     "name": "#%% md\n"
    }
   }
  },
  {
   "cell_type": "code",
   "execution_count": 26,
   "outputs": [
    {
     "name": "stdout",
     "output_type": "stream",
     "text": [
      "null model AIC: 227.94194972563105\n",
      "lm model AIC  : 208.90902935575437\n",
      "lm model LLF  : -102.45451467787719\n",
      "lm model df   : 1.0\n",
      "lm model AIC (equation) : 208.90902935575437\n"
     ]
    }
   ],
   "source": [
    "null_model = smf.ols(\"beer ~ 1\", data=beer).fit()\n",
    "print(f\"null model AIC: {null_model.aic}\")\n",
    "print(f\"lm model AIC  : {lm_model.aic}\")\n",
    "\n",
    "print(f\"lm model LLF  : {lm_model.llf}\")\n",
    "print(f\"lm model df   : {lm_model.df_model}\")\n",
    "\n",
    "print(f\"lm model AIC (equation) : {-2 * (lm_model.llf - (lm_model.df_model + 1))}\")"
   ],
   "metadata": {
    "collapsed": false,
    "pycharm": {
     "name": "#%%\n"
    }
   }
  },
  {
   "cell_type": "markdown",
   "source": [
    "5.1.8 회귀직선\n",
    "\n",
    "- 종속변수가 연속형 변수일 경우에는 전통적으로 회귀라고 부르기 때문에 회귀라는 이름을 사용했습니다.\n",
    "\n",
    "5.1.9 seaborn을 이용한 회귀직선 그래프 그리기"
   ],
   "metadata": {
    "collapsed": false,
    "pycharm": {
     "name": "#%% md\n"
    }
   }
  },
  {
   "cell_type": "code",
   "execution_count": 27,
   "outputs": [
    {
     "data": {
      "text/plain": "<seaborn.axisgrid.FacetGrid at 0x2bbfd14d1c8>"
     },
     "execution_count": 27,
     "metadata": {},
     "output_type": "execute_result"
    },
    {
     "data": {
      "text/plain": "<Figure size 360x360 with 1 Axes>",
      "image/png": "[encoded data removed]"
     },
     "metadata": {
      "needs_background": "light"
     },
     "output_type": "display_data"
    }
   ],
   "source": [
    "# TODO 회귀직선에서 신뢰구간이 가지는 의미\n",
    "sns.lmplot(x=\"temperature\", y=\"beer\", data=beer)"
   ],
   "metadata": {
    "collapsed": false,
    "pycharm": {
     "name": "#%%\n"
    }
   }
  },
  {
   "cell_type": "markdown",
   "source": [
    "5.1.10 모델을 이용한 예측"
   ],
   "metadata": {
    "collapsed": false,
    "pycharm": {
     "name": "#%% md\n"
    }
   }
  },
  {
   "cell_type": "code",
   "execution_count": 28,
   "outputs": [
    {
     "name": "stdout",
     "output_type": "stream",
     "text": [
      "[50.3014808  53.74590495 42.26449113 55.20021737 46.70397114 37.82501112\n",
      " 44.94348769 54.51133254 52.44467805 41.11634975 54.66441806 49.22988218\n",
      " 53.21010564 52.44467805 41.03980699 52.59776357 45.24965873 61.78289462\n",
      " 55.42984564 50.3014808  42.41757665 50.3014808  51.14345115 40.6570932\n",
      " 66.91125946 52.9039346  62.85449324 41.42252079 62.47177945 39.50895182]\n",
      "\n"
     ]
    }
   ],
   "source": [
    "print(lm_model.predict())\n",
    "print()"
   ],
   "metadata": {
    "collapsed": false,
    "pycharm": {
     "name": "#%%\n"
    }
   }
  },
  {
   "cell_type": "code",
   "execution_count": 29,
   "outputs": [
    {
     "name": "stdout",
     "output_type": "stream",
     "text": [
      "기온이 0도일 때의 맥주 매상\n",
      "0    34.610215\n",
      "dtype: float64\n",
      "\n"
     ]
    }
   ],
   "source": [
    "print(\"기온이 0도일 때의 맥주 매상\")\n",
    "print(lm_model.predict(pd.DataFrame({\"temperature\":[0]})))\n",
    "print()"
   ],
   "metadata": {
    "collapsed": false,
    "pycharm": {
     "name": "#%%\n"
    }
   }
  },
  {
   "cell_type": "code",
   "execution_count": 30,
   "outputs": [
    {
     "name": "stdout",
     "output_type": "stream",
     "text": [
      "모델 파라미터\n",
      "Intercept      34.610215\n",
      "temperature     0.765428\n",
      "dtype: float64\n",
      "\n"
     ]
    }
   ],
   "source": [
    "print(\"모델 파라미터\")\n",
    "print(lm_model.params)\n",
    "print()"
   ],
   "metadata": {
    "collapsed": false,
    "pycharm": {
     "name": "#%%\n"
    }
   }
  },
  {
   "cell_type": "code",
   "execution_count": 31,
   "outputs": [
    {
     "name": "stdout",
     "output_type": "stream",
     "text": [
      "기온이 20도일 때의 맥주 매상\n",
      "0    49.918767\n",
      "dtype: float64\n",
      "\n"
     ]
    }
   ],
   "source": [
    "print(\"기온이 20도일 때의 맥주 매상\")\n",
    "print(lm_model.predict(pd.DataFrame({\"temperature\":[20]})))\n",
    "print()"
   ],
   "metadata": {
    "collapsed": false,
    "pycharm": {
     "name": "#%%\n"
    }
   }
  },
  {
   "cell_type": "code",
   "execution_count": 32,
   "outputs": [
    {
     "name": "stdout",
     "output_type": "stream",
     "text": [
      "파라미터 확인\n",
      "기온이 20도일 때의 맥주 매상\n",
      "49.91876701095054\n",
      "\n"
     ]
    }
   ],
   "source": [
    "print(\"파라미터 확인\")\n",
    "beta0 = lm_model.params[0]\n",
    "beta1 = lm_model.params[1]\n",
    "temperature = 20\n",
    "print(\"기온이 20도일 때의 맥주 매상\")\n",
    "print(beta0 + beta1 * temperature)\n",
    "print()"
   ],
   "metadata": {
    "collapsed": false,
    "pycharm": {
     "name": "#%%\n"
    }
   }
  },
  {
   "cell_type": "markdown",
   "source": [
    "5.1.11 잔차 계산\n",
    "\n",
    "$$residuals = {y - {\\hat{y}}}$$"
   ],
   "metadata": {
    "collapsed": false,
    "pycharm": {
     "name": "#%% md\n"
    }
   }
  },
  {
   "cell_type": "code",
   "execution_count": 33,
   "outputs": [
    {
     "name": "stdout",
     "output_type": "stream",
     "text": [
      "0   -5.001481\n",
      "1    5.554095\n",
      "2   -1.864491\n",
      "dtype: float64\n"
     ]
    }
   ],
   "source": [
    "resid = lm_model.resid\n",
    "print(resid.head(3))"
   ],
   "metadata": {
    "collapsed": false,
    "pycharm": {
     "name": "#%%\n"
    }
   }
  },
  {
   "cell_type": "code",
   "execution_count": 34,
   "outputs": [
    {
     "name": "stdout",
     "output_type": "stream",
     "text": [
      "0    50.301481\n",
      "1    53.745905\n",
      "2    42.264491\n",
      "Name: temperature, dtype: float64\n"
     ]
    }
   ],
   "source": [
    "y_hat = beta0 + beta1 * beer.temperature\n",
    "print(y_hat.head(3))"
   ],
   "metadata": {
    "collapsed": false,
    "pycharm": {
     "name": "#%%\n"
    }
   }
  },
  {
   "cell_type": "code",
   "execution_count": 35,
   "outputs": [
    {
     "name": "stdout",
     "output_type": "stream",
     "text": [
      "residual\n",
      "0   -5.001481\n",
      "1    5.554095\n",
      "2   -1.864491\n",
      "dtype: float64\n"
     ]
    }
   ],
   "source": [
    "print(\"residual\")\n",
    "print((beer.beer - y_hat).head(3))"
   ],
   "metadata": {
    "collapsed": false,
    "pycharm": {
     "name": "#%%\n"
    }
   }
  },
  {
   "cell_type": "markdown",
   "source": [
    "5.1.12 결정계수\n",
    "\n",
    "$$R^2 = {\\sum_{i=1}^N{(\\hat{y} - \\mu)^2} \\over {\\sum_{i=1}^N(y - {\\mu})^2}}$$"
   ],
   "metadata": {
    "collapsed": false,
    "pycharm": {
     "name": "#%% md\n"
    }
   }
  },
  {
   "cell_type": "code",
   "execution_count": 36,
   "outputs": [
    {
     "data": {
      "text/plain": "0.503959323061187"
     },
     "execution_count": 36,
     "metadata": {},
     "output_type": "execute_result"
    }
   ],
   "source": [
    "mu = np.mean(beer.beer)\n",
    "y = beer.beer\n",
    "yhat = lm_model.predict()\n",
    "\n",
    "np.sum((yhat - mu) ** 2) / np.sum((y - mu) ** 2)"
   ],
   "metadata": {
    "collapsed": false,
    "pycharm": {
     "name": "#%%\n"
    }
   }
  },
  {
   "cell_type": "markdown",
   "source": [
    "참고문헌: \n",
    "\n",
    "[1] 파이썬으로 배우는 통계학 교과서; 바바 신야 지음, 윤옹식 옮김; 한빛미디어 (2020)"
   ],
   "metadata": {
    "collapsed": false
   }
  }
 ]
}