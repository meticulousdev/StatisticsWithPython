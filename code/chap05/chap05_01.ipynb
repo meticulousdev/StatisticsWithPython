{
 "nbformat": 4,
 "nbformat_minor": 0,
 "metadata": {
  "orig_nbformat": 4,
  "language_info": {
   "name": "python",
   "version": "3.7.9",
   "mimetype": "text/x-python",
   "codemirror_mode": {
    "name": "ipython",
    "version": 3
   },
   "pygments_lexer": "ipython3",
   "nbconvert_exporter": "python",
   "file_extension": ".py"
  },
  "kernelspec": {
   "name": "python3",
   "language": "python",
   "display_name": "Python 3 (ipykernel)"
  },
  "interpreter": {
   "hash": "5d874692de9bc9eeb727ddf948f6826ddf9dbe408169bde9441b83e678dc7e6c"
  },
  "colab": {
   "name": "chap05_01.ipynb",
   "provenance": [],
   "collapsed_sections": []
  }
 },
 "cells": [
  {
   "cell_type": "markdown",
   "metadata": {
    "id": "2uhx-1u8DMtD"
   },
   "source": [
    "# Chapter 5 정규선형모델\n",
    "\n",
    "# 5.1 연속형 독립변수가 하나인 모델 (단순회귀) \n",
    "\n",
    "5.1.1 분석 준비"
   ]
  },
  {
   "cell_type": "code",
   "metadata": {
    "colab": {
     "base_uri": "https://localhost:8080/"
    },
    "id": "bzU9DN3ODMtG",
    "executionInfo": {
     "status": "ok",
     "timestamp": 1631031942900,
     "user_tz": -540,
     "elapsed": 66382,
     "user": {
      "displayName": "Seung Ji Lim",
      "photoUrl": "https://lh3.googleusercontent.com/a-/AOh14Ggja2S2ZXL6GaizTX8M8NvmaX43KB7Nv2UuBN-Q=s64",
      "userId": "13658689164859790992"
     }
    },
    "outputId": "f53de269-8437-4397-c3e0-a2ca132e27f5"
   },
   "source": [
    "# from google.colab import drive\n",
    "# drive.mount('/content/drive')\n",
    "#\n",
    "# %cd /content/drive/MyDrive/Colab\\ Notebooks/StatisticsWithPython/code/chap05"
   ],
   "execution_count": 1,
   "outputs": []
  },
  {
   "cell_type": "code",
   "metadata": {
    "colab": {
     "base_uri": "https://localhost:8080/"
    },
    "id": "2xP0tW-zDMtH",
    "executionInfo": {
     "status": "ok",
     "timestamp": 1631031944749,
     "user_tz": -540,
     "elapsed": 1866,
     "user": {
      "displayName": "Seung Ji Lim",
      "photoUrl": "https://lh3.googleusercontent.com/a-/AOh14Ggja2S2ZXL6GaizTX8M8NvmaX43KB7Nv2UuBN-Q=s64",
      "userId": "13658689164859790992"
     }
    },
    "outputId": "35ea6ed8-b8ed-4fd3-f89a-55dd62650e25"
   },
   "source": [
    "import numpy as np\n",
    "import pandas as pd\n",
    "import scipy as sp\n",
    "import scipy.stats as stats\n",
    "\n",
    "import matplotlib.pyplot as plt\n",
    "import seaborn as sns\n",
    "sns.set()\n",
    "\n",
    "import statsmodels.formula.api as smf\n",
    "import statsmodels.api as sm\n",
    "\n",
    "%matplotlib inline"
   ],
   "execution_count": 2,
   "outputs": []
  },
  {
   "cell_type": "markdown",
   "metadata": {
    "id": "KodfHvkmDMtH"
   },
   "source": [
    "5.1.2 데이터 읽어 들이기와 표시"
   ]
  },
  {
   "cell_type": "code",
   "metadata": {
    "colab": {
     "base_uri": "https://localhost:8080/"
    },
    "id": "JMqIeeG3DMtI",
    "executionInfo": {
     "status": "ok",
     "timestamp": 1631031945162,
     "user_tz": -540,
     "elapsed": 425,
     "user": {
      "displayName": "Seung Ji Lim",
      "photoUrl": "https://lh3.googleusercontent.com/a-/AOh14Ggja2S2ZXL6GaizTX8M8NvmaX43KB7Nv2UuBN-Q=s64",
      "userId": "13658689164859790992"
     }
    },
    "outputId": "7f3a08c3-070f-4480-91f3-082fda54bf34"
   },
   "source": [
    "beer = pd.read_csv(\"../../data/5-1-1-beer.csv\")\n",
    "print(beer.head())"
   ],
   "execution_count": 3,
   "outputs": [
    {
     "name": "stdout",
     "output_type": "stream",
     "text": [
      "   beer  temperature\n",
      "0  45.3         20.5\n",
      "1  59.3         25.0\n",
      "2  40.4         10.0\n",
      "3  38.0         26.9\n",
      "4  37.0         15.8\n"
     ]
    }
   ]
  },
  {
   "cell_type": "code",
   "metadata": {
    "colab": {
     "base_uri": "https://localhost:8080/",
     "height": 460
    },
    "id": "EPKIiex7DMtJ",
    "executionInfo": {
     "status": "ok",
     "timestamp": 1631031946319,
     "user_tz": -540,
     "elapsed": 1159,
     "user": {
      "displayName": "Seung Ji Lim",
      "photoUrl": "https://lh3.googleusercontent.com/a-/AOh14Ggja2S2ZXL6GaizTX8M8NvmaX43KB7Nv2UuBN-Q=s64",
      "userId": "13658689164859790992"
     }
    },
    "outputId": "39cdbb9a-b32a-4ab7-cd43-b46a8312c0af"
   },
   "source": [
    "graph = sns.jointplot(x=\"temperature\", y=\"beer\", data=beer)\n",
    "\n",
    "x = beer[\"temperature\"]\n",
    "y = beer[\"beer\"]\n",
    "\n",
    "r, p = stats.pearsonr(x, y)\n",
    "\n",
    "phantom, = graph.ax_joint.plot([], [], linestyle=\"\", alpha=0)\n",
    "graph.ax_joint.legend([phantom],[f'r={r:f}, p={p:f}'])"
   ],
   "execution_count": 4,
   "outputs": [
    {
     "data": {
      "text/plain": "<matplotlib.legend.Legend at 0x2436818c588>"
     },
     "execution_count": 4,
     "metadata": {},
     "output_type": "execute_result"
    },
    {
     "data": {
      "text/plain": "<Figure size 432x432 with 3 Axes>",
      "image/png": "[encoded data removed]"
     },
     "metadata": {
      "needs_background": "light"
     },
     "output_type": "display_data"
    }
   ]
  },
  {
   "cell_type": "markdown",
   "metadata": {
    "id": "DREFVVMcDMtJ"
   },
   "source": [
    "5.1.3 모델 구축\n",
    "\n",
    "5.1.4 statsmodels를 이용한 모델링"
   ]
  },
  {
   "cell_type": "code",
   "metadata": {
    "id": "sWH2_1mJDMtK",
    "executionInfo": {
     "status": "ok",
     "timestamp": 1631031946320,
     "user_tz": -540,
     "elapsed": 25,
     "user": {
      "displayName": "Seung Ji Lim",
      "photoUrl": "https://lh3.googleusercontent.com/a-/AOh14Ggja2S2ZXL6GaizTX8M8NvmaX43KB7Nv2UuBN-Q=s64",
      "userId": "13658689164859790992"
     }
    }
   },
   "source": [
    "lm_model = smf.ols(formula = \"beer ~ temperature\", data=beer).fit()"
   ],
   "execution_count": 5,
   "outputs": []
  },
  {
   "cell_type": "markdown",
   "metadata": {
    "id": "oHT2iHP-EumC"
   },
   "source": [
    "5.1.5 추정 결과 표시와 계수 검정"
   ]
  },
  {
   "cell_type": "code",
   "metadata": {
    "colab": {
     "base_uri": "https://localhost:8080/"
    },
    "id": "HFwekXOXEumC",
    "executionInfo": {
     "status": "ok",
     "timestamp": 1631031946321,
     "user_tz": -540,
     "elapsed": 21,
     "user": {
      "displayName": "Seung Ji Lim",
      "photoUrl": "https://lh3.googleusercontent.com/a-/AOh14Ggja2S2ZXL6GaizTX8M8NvmaX43KB7Nv2UuBN-Q=s64",
      "userId": "13658689164859790992"
     }
    },
    "outputId": "3ca15268-b76f-4625-dea1-ae5101728d1f"
   },
   "source": [
    "print(lm_model.summary())"
   ],
   "execution_count": 6,
   "outputs": [
    {
     "name": "stdout",
     "output_type": "stream",
     "text": [
      "                            OLS Regression Results                            \n",
      "==============================================================================\n",
      "Dep. Variable:                   beer   R-squared:                       0.504\n",
      "Model:                            OLS   Adj. R-squared:                  0.486\n",
      "Method:                 Least Squares   F-statistic:                     28.45\n",
      "Date:                Fri, 10 Sep 2021   Prob (F-statistic):           1.11e-05\n",
      "Time:                        02:08:59   Log-Likelihood:                -102.45\n",
      "No. Observations:                  30   AIC:                             208.9\n",
      "Df Residuals:                      28   BIC:                             211.7\n",
      "Df Model:                           1                                         \n",
      "Covariance Type:            nonrobust                                         \n",
      "===============================================================================\n",
      "                  coef    std err          t      P>|t|      [0.025      0.975]\n",
      "-------------------------------------------------------------------------------\n",
      "Intercept      34.6102      3.235     10.699      0.000      27.984      41.237\n",
      "temperature     0.7654      0.144      5.334      0.000       0.471       1.059\n",
      "==============================================================================\n",
      "Omnibus:                        0.587   Durbin-Watson:                   1.960\n",
      "Prob(Omnibus):                  0.746   Jarque-Bera (JB):                0.290\n",
      "Skew:                          -0.240   Prob(JB):                        0.865\n",
      "Kurtosis:                       2.951   Cond. No.                         52.5\n",
      "==============================================================================\n",
      "\n",
      "Notes:\n",
      "[1] Standard Errors assume that the covariance matrix of the errors is correctly specified.\n"
     ]
    }
   ]
  },
  {
   "cell_type": "markdown",
   "metadata": {
    "id": "ImHihcLjE7th"
   },
   "source": [
    "참고문헌: \n",
    "\n",
    "[1] 파이썬으로 배우는 통계학 교과서; 바바 신야 지음, 윤옹식 옮김; 한빛미디어 (2020)"
   ]
  }
 ]
}