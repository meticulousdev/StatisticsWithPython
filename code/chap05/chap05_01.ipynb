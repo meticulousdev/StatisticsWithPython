{
 "cells": [
  {
   "cell_type": "markdown",
   "metadata": {
    "id": "2uhx-1u8DMtD"
   },
   "source": [
    "# Chapter 5 정규선형모델\n",
    "\n",
    "# 5.1 연속형 독립변수가 하나인 모델 (단순회귀) \n",
    "\n",
    "5.1.1 분석 준비"
   ]
  },
  {
   "cell_type": "code",
   "execution_count": 1,
   "metadata": {
    "colab": {
     "base_uri": "https://localhost:8080/"
    },
    "executionInfo": {
     "elapsed": 66382,
     "status": "ok",
     "timestamp": 1631031942900,
     "user": {
      "displayName": "Seung Ji Lim",
      "photoUrl": "https://lh3.googleusercontent.com/a-/AOh14Ggja2S2ZXL6GaizTX8M8NvmaX43KB7Nv2UuBN-Q=s64",
      "userId": "13658689164859790992"
     },
     "user_tz": -540
    },
    "id": "bzU9DN3ODMtG",
    "outputId": "f53de269-8437-4397-c3e0-a2ca132e27f5"
   },
   "outputs": [],
   "source": [
    "# from google.colab import drive\n",
    "# drive.mount('/content/drive')\n",
    "#\n",
    "# %cd /content/drive/MyDrive/Colab\\ Notebooks/StatisticsWithPython/code/chap05"
   ]
  },
  {
   "cell_type": "code",
   "execution_count": null,
   "metadata": {
    "colab": {
     "base_uri": "https://localhost:8080/"
    },
    "executionInfo": {
     "elapsed": 1866,
     "status": "ok",
     "timestamp": 1631031944749,
     "user": {
      "displayName": "Seung Ji Lim",
      "photoUrl": "https://lh3.googleusercontent.com/a-/AOh14Ggja2S2ZXL6GaizTX8M8NvmaX43KB7Nv2UuBN-Q=s64",
      "userId": "13658689164859790992"
     },
     "user_tz": -540
    },
    "id": "2xP0tW-zDMtH",
    "outputId": "35ea6ed8-b8ed-4fd3-f89a-55dd62650e25"
   },
   "outputs": [
    {
     "ename": "",
     "evalue": "",
     "output_type": "error",
     "traceback": [
      "\u001b[1;31mJupyter cannot be started. Error attempting to locate jupyter: Running cells with 'Python 3.8.9 64-bit' requires jupyter and notebook package.\n",
      "Run the following command to install 'jupyter and notebook' into the Python environment. \n",
      "Command: 'conda install -n tf jupyter notebook'"
     ]
    }
   ],
   "source": [
    "import numpy as np\n",
    "import pandas as pd\n",
    "import scipy as sp\n",
    "import scipy.stats as stats\n",
    "\n",
    "import matplotlib.pyplot as plt\n",
    "import seaborn as sns\n",
    "sns.set()\n",
    "\n",
    "import statsmodels.formula.api as smf\n",
    "import statsmodels.api as sm\n",
    "\n",
    "import warnings\n",
    "warnings.filterwarnings(\"ignore\")\n",
    "\n",
    "%matplotlib inline"
   ]
  },
  {
   "cell_type": "markdown",
   "metadata": {
    "id": "KodfHvkmDMtH"
   },
   "source": [
    "5.1.2 데이터 읽어 들이기와 표시"
   ]
  },
  {
   "cell_type": "code",
   "execution_count": 2,
   "metadata": {
    "colab": {
     "base_uri": "https://localhost:8080/"
    },
    "executionInfo": {
     "elapsed": 425,
     "status": "ok",
     "timestamp": 1631031945162,
     "user": {
      "displayName": "Seung Ji Lim",
      "photoUrl": "https://lh3.googleusercontent.com/a-/AOh14Ggja2S2ZXL6GaizTX8M8NvmaX43KB7Nv2UuBN-Q=s64",
      "userId": "13658689164859790992"
     },
     "user_tz": -540
    },
    "id": "JMqIeeG3DMtI",
    "outputId": "7f3a08c3-070f-4480-91f3-082fda54bf34"
   },
   "outputs": [
    {
     "name": "stdout",
     "output_type": "stream",
     "text": [
      "   beer  temperature\n",
      "0  45.3         20.5\n",
      "1  59.3         25.0\n",
      "2  40.4         10.0\n",
      "3  38.0         26.9\n",
      "4  37.0         15.8\n"
     ]
    }
   ],
   "source": [
    "beer = pd.read_csv(\"../../data/5-1-1-beer.csv\")\n",
    "print(beer.head())"
   ]
  },
  {
   "cell_type": "code",
   "execution_count": 3,
   "metadata": {
    "colab": {
     "base_uri": "https://localhost:8080/",
     "height": 460
    },
    "executionInfo": {
     "elapsed": 1159,
     "status": "ok",
     "timestamp": 1631031946319,
     "user": {
      "displayName": "Seung Ji Lim",
      "photoUrl": "https://lh3.googleusercontent.com/a-/AOh14Ggja2S2ZXL6GaizTX8M8NvmaX43KB7Nv2UuBN-Q=s64",
      "userId": "13658689164859790992"
     },
     "user_tz": -540
    },
    "id": "EPKIiex7DMtJ",
    "outputId": "39cdbb9a-b32a-4ab7-cd43-b46a8312c0af"
   },
   "outputs": [
    {
     "data": {
      "text/plain": [
       "<matplotlib.legend.Legend at 0x271bde97ec8>"
      ]
     },
     "execution_count": 3,
     "metadata": {},
     "output_type": "execute_result"
    },
    {
     "data": {
      "image/png": "[encoded data removed]",
      "text/plain": [
       "<Figure size 432x432 with 3 Axes>"
      ]
     },
     "metadata": {
      "needs_background": "light"
     },
     "output_type": "display_data"
    }
   ],
   "source": [
    "graph = sns.jointplot(x=\"temperature\", y=\"beer\", data=beer)\n",
    "\n",
    "x = beer[\"temperature\"]\n",
    "y = beer[\"beer\"]\n",
    "\n",
    "r, p = stats.pearsonr(x, y)\n",
    "\n",
    "phantom, = graph.ax_joint.plot([], [], linestyle=\"\", alpha=0)\n",
    "graph.ax_joint.legend([phantom],[f'r={r:f}, p={p:f}'])"
   ]
  },
  {
   "cell_type": "markdown",
   "metadata": {
    "id": "DREFVVMcDMtJ"
   },
   "source": [
    "5.1.3 모델 구축\n",
    "\n",
    "5.1.4 statsmodels를 이용한 모델링"
   ]
  },
  {
   "cell_type": "code",
   "execution_count": 4,
   "metadata": {
    "executionInfo": {
     "elapsed": 25,
     "status": "ok",
     "timestamp": 1631031946320,
     "user": {
      "displayName": "Seung Ji Lim",
      "photoUrl": "https://lh3.googleusercontent.com/a-/AOh14Ggja2S2ZXL6GaizTX8M8NvmaX43KB7Nv2UuBN-Q=s64",
      "userId": "13658689164859790992"
     },
     "user_tz": -540
    },
    "id": "sWH2_1mJDMtK"
   },
   "outputs": [],
   "source": [
    "lm_model = smf.ols(formula = \"beer ~ temperature\", data=beer).fit()"
   ]
  },
  {
   "cell_type": "markdown",
   "metadata": {
    "id": "oHT2iHP-EumC"
   },
   "source": [
    "5.1.5 추정 결과 표시와 계수 검정"
   ]
  },
  {
   "cell_type": "code",
   "execution_count": 5,
   "metadata": {
    "colab": {
     "base_uri": "https://localhost:8080/"
    },
    "executionInfo": {
     "elapsed": 21,
     "status": "ok",
     "timestamp": 1631031946321,
     "user": {
      "displayName": "Seung Ji Lim",
      "photoUrl": "https://lh3.googleusercontent.com/a-/AOh14Ggja2S2ZXL6GaizTX8M8NvmaX43KB7Nv2UuBN-Q=s64",
      "userId": "13658689164859790992"
     },
     "user_tz": -540
    },
    "id": "HFwekXOXEumC",
    "outputId": "3ca15268-b76f-4625-dea1-ae5101728d1f"
   },
   "outputs": [
    {
     "name": "stdout",
     "output_type": "stream",
     "text": [
      "                            OLS Regression Results                            \n",
      "==============================================================================\n",
      "Dep. Variable:                   beer   R-squared:                       0.504\n",
      "Model:                            OLS   Adj. R-squared:                  0.486\n",
      "Method:                 Least Squares   F-statistic:                     28.45\n",
      "Date:                Tue, 11 Jan 2022   Prob (F-statistic):           1.11e-05\n",
      "Time:                        12:31:13   Log-Likelihood:                -102.45\n",
      "No. Observations:                  30   AIC:                             208.9\n",
      "Df Residuals:                      28   BIC:                             211.7\n",
      "Df Model:                           1                                         \n",
      "Covariance Type:            nonrobust                                         \n",
      "===============================================================================\n",
      "                  coef    std err          t      P>|t|      [0.025      0.975]\n",
      "-------------------------------------------------------------------------------\n",
      "Intercept      34.6102      3.235     10.699      0.000      27.984      41.237\n",
      "temperature     0.7654      0.144      5.334      0.000       0.471       1.059\n",
      "==============================================================================\n",
      "Omnibus:                        0.587   Durbin-Watson:                   1.960\n",
      "Prob(Omnibus):                  0.746   Jarque-Bera (JB):                0.290\n",
      "Skew:                          -0.240   Prob(JB):                        0.865\n",
      "Kurtosis:                       2.951   Cond. No.                         52.5\n",
      "==============================================================================\n",
      "\n",
      "Notes:\n",
      "[1] Standard Errors assume that the covariance matrix of the errors is correctly specified.\n"
     ]
    }
   ],
   "source": [
    "print(lm_model.summary())"
   ]
  },
  {
   "cell_type": "markdown",
   "metadata": {
    "collapsed": false,
    "pycharm": {
     "name": "#%% md\n"
    }
   },
   "source": [
    "5.1.6 summary 함수의 출력 내용 설명\n",
    "\n",
    "5.1.7 AIC를 이용한 모델 선택"
   ]
  },
  {
   "cell_type": "code",
   "execution_count": 6,
   "metadata": {
    "collapsed": false,
    "pycharm": {
     "name": "#%%\n"
    }
   },
   "outputs": [
    {
     "name": "stdout",
     "output_type": "stream",
     "text": [
      "null model AIC: 227.94194972563105\n",
      "lm model AIC  : 208.90902935575437\n",
      "lm model LLF  : -102.45451467787719\n",
      "lm model df   : 1.0\n",
      "lm model AIC (equation) : 208.90902935575437\n"
     ]
    }
   ],
   "source": [
    "null_model = smf.ols(\"beer ~ 1\", data=beer).fit()\n",
    "print(f\"null model AIC: {null_model.aic}\")\n",
    "print(f\"lm model AIC  : {lm_model.aic}\")\n",
    "\n",
    "print(f\"lm model LLF  : {lm_model.llf}\")\n",
    "print(f\"lm model df   : {lm_model.df_model}\")\n",
    "\n",
    "print(f\"lm model AIC (equation) : {-2 * (lm_model.llf - (lm_model.df_model + 1))}\")"
   ]
  },
  {
   "cell_type": "markdown",
   "metadata": {
    "collapsed": false,
    "pycharm": {
     "name": "#%% md\n"
    }
   },
   "source": [
    "5.1.8 회귀직선\n",
    "\n",
    "- 종속변수가 연속형 변수일 경우에는 전통적으로 회귀라고 부르기 때문에 회귀라는 이름을 사용했습니다.\n",
    "\n",
    "5.1.9 seaborn을 이용한 회귀직선 그래프 그리기"
   ]
  },
  {
   "cell_type": "code",
   "execution_count": 7,
   "metadata": {
    "collapsed": false,
    "pycharm": {
     "name": "#%%\n"
    }
   },
   "outputs": [
    {
     "data": {
      "text/plain": [
       "<seaborn.axisgrid.FacetGrid at 0x271bd7ade08>"
      ]
     },
     "execution_count": 7,
     "metadata": {},
     "output_type": "execute_result"
    },
    {
     "data": {
      "image/png": "[encoded data removed]",
      "text/plain": [
       "<Figure size 360x360 with 1 Axes>"
      ]
     },
     "metadata": {
      "needs_background": "light"
     },
     "output_type": "display_data"
    }
   ],
   "source": [
    "# TODO 회귀직선에서 신뢰구간이 가지는 의미\n",
    "sns.lmplot(x=\"temperature\", y=\"beer\", data=beer)"
   ]
  },
  {
   "cell_type": "markdown",
   "metadata": {
    "collapsed": false,
    "pycharm": {
     "name": "#%% md\n"
    }
   },
   "source": [
    "5.1.10 모델을 이용한 예측"
   ]
  },
  {
   "cell_type": "code",
   "execution_count": 8,
   "metadata": {
    "collapsed": false,
    "pycharm": {
     "name": "#%%\n"
    }
   },
   "outputs": [
    {
     "name": "stdout",
     "output_type": "stream",
     "text": [
      "[50.3014808  53.74590495 42.26449113 55.20021737 46.70397114 37.82501112\n",
      " 44.94348769 54.51133254 52.44467805 41.11634975 54.66441806 49.22988218\n",
      " 53.21010564 52.44467805 41.03980699 52.59776357 45.24965873 61.78289462\n",
      " 55.42984564 50.3014808  42.41757665 50.3014808  51.14345115 40.6570932\n",
      " 66.91125946 52.9039346  62.85449324 41.42252079 62.47177945 39.50895182]\n",
      "\n"
     ]
    }
   ],
   "source": [
    "print(lm_model.predict())\n",
    "print()"
   ]
  },
  {
   "cell_type": "code",
   "execution_count": 9,
   "metadata": {
    "collapsed": false,
    "pycharm": {
     "name": "#%%\n"
    }
   },
   "outputs": [
    {
     "name": "stdout",
     "output_type": "stream",
     "text": [
      "기온이 0도일 때의 맥주 매상\n",
      "0    34.610215\n",
      "dtype: float64\n",
      "\n"
     ]
    }
   ],
   "source": [
    "print(\"기온이 0도일 때의 맥주 매상\")\n",
    "print(lm_model.predict(pd.DataFrame({\"temperature\":[0]})))\n",
    "print()"
   ]
  },
  {
   "cell_type": "code",
   "execution_count": 10,
   "metadata": {
    "collapsed": false,
    "pycharm": {
     "name": "#%%\n"
    }
   },
   "outputs": [
    {
     "name": "stdout",
     "output_type": "stream",
     "text": [
      "모델 파라미터\n",
      "Intercept      34.610215\n",
      "temperature     0.765428\n",
      "dtype: float64\n",
      "\n"
     ]
    }
   ],
   "source": [
    "print(\"모델 파라미터\")\n",
    "print(lm_model.params)\n",
    "print()"
   ]
  },
  {
   "cell_type": "code",
   "execution_count": 12,
   "metadata": {
    "collapsed": false,
    "pycharm": {
     "name": "#%%\n"
    }
   },
   "outputs": [
    {
     "name": "stdout",
     "output_type": "stream",
     "text": [
      "기온이 20도일 때의 맥주 매상\n",
      "0    49.918767\n",
      "dtype: float64\n",
      "\n"
     ]
    }
   ],
   "source": [
    "print(\"기온이 20도일 때의 맥주 매상\")\n",
    "print(lm_model.predict(pd.DataFrame({\"temperature\":[20]})))\n",
    "print()"
   ]
  },
  {
   "cell_type": "code",
   "execution_count": 13,
   "metadata": {
    "collapsed": false,
    "pycharm": {
     "name": "#%%\n"
    }
   },
   "outputs": [
    {
     "name": "stdout",
     "output_type": "stream",
     "text": [
      "파라미터 확인\n",
      "기온이 20도일 때의 맥주 매상\n",
      "49.91876701095054\n",
      "\n"
     ]
    }
   ],
   "source": [
    "print(\"파라미터 확인\")\n",
    "beta0 = lm_model.params[0]\n",
    "beta1 = lm_model.params[1]\n",
    "temperature = 20\n",
    "print(\"기온이 20도일 때의 맥주 매상\")\n",
    "print(beta0 + beta1 * temperature)\n",
    "print()"
   ]
  },
  {
   "cell_type": "markdown",
   "metadata": {
    "collapsed": false,
    "pycharm": {
     "name": "#%% md\n"
    }
   },
   "source": [
    "5.1.11 잔차 계산\n",
    "\n",
    "- 정규선형모델의 경우에는 잔차가 '평균이 0인 정규분포'를 따르는 것이므로 모델이 그 분포를 따르고 있는지 체크하게 됩니다.\n",
    "\n",
    "$$residuals = {y - {\\hat{y}}}$$"
   ]
  },
  {
   "cell_type": "code",
   "execution_count": 14,
   "metadata": {
    "collapsed": false,
    "pycharm": {
     "name": "#%%\n"
    }
   },
   "outputs": [
    {
     "name": "stdout",
     "output_type": "stream",
     "text": [
      "0   -5.001481\n",
      "1    5.554095\n",
      "2   -1.864491\n",
      "dtype: float64\n"
     ]
    }
   ],
   "source": [
    "resid = lm_model.resid\n",
    "print(resid.head(3))"
   ]
  },
  {
   "cell_type": "code",
   "execution_count": 15,
   "metadata": {
    "collapsed": false,
    "pycharm": {
     "name": "#%%\n"
    }
   },
   "outputs": [
    {
     "name": "stdout",
     "output_type": "stream",
     "text": [
      "0    50.301481\n",
      "1    53.745905\n",
      "2    42.264491\n",
      "Name: temperature, dtype: float64\n"
     ]
    }
   ],
   "source": [
    "y_hat = beta0 + beta1 * beer.temperature\n",
    "print(y_hat.head(3))"
   ]
  },
  {
   "cell_type": "code",
   "execution_count": 16,
   "metadata": {
    "collapsed": false,
    "pycharm": {
     "name": "#%%\n"
    }
   },
   "outputs": [
    {
     "name": "stdout",
     "output_type": "stream",
     "text": [
      "residual\n",
      "0   -5.001481\n",
      "1    5.554095\n",
      "2   -1.864491\n",
      "dtype: float64\n"
     ]
    }
   ],
   "source": [
    "print(\"residual\")\n",
    "print((beer.beer - y_hat).head(3))"
   ]
  },
  {
   "cell_type": "markdown",
   "metadata": {
    "collapsed": false,
    "pycharm": {
     "name": "#%% md\n"
    }
   },
   "source": [
    "5.1.12 결정계수\n",
    "\n",
    "$$R^2 = {{\\sum_{i=1}^N(\\hat{y} - \\mu)^2} \\over {\\sum_{i=1}^N(y - {\\mu})^2}}$$"
   ]
  },
  {
   "cell_type": "code",
   "execution_count": 17,
   "metadata": {
    "collapsed": false,
    "pycharm": {
     "name": "#%%\n"
    }
   },
   "outputs": [
    {
     "name": "stdout",
     "output_type": "stream",
     "text": [
      "r_squared (equation 01): 0.503959323061187\n"
     ]
    }
   ],
   "source": [
    "mu = np.mean(beer.beer)\n",
    "y = beer.beer\n",
    "yhat = lm_model.predict()\n",
    "\n",
    "r_squared = np.sum((yhat - mu) ** 2) / np.sum((y - mu) ** 2)\n",
    "print(f\"r_squared (equation 01): {r_squared}\")"
   ]
  },
  {
   "cell_type": "code",
   "execution_count": 18,
   "metadata": {},
   "outputs": [
    {
     "name": "stdout",
     "output_type": "stream",
     "text": [
      "r_squared (lm_model): 0.5039593230611856\n"
     ]
    }
   ],
   "source": [
    "print(f\"r_squared (lm_model): {lm_model.rsquared}\")"
   ]
  },
  {
   "cell_type": "code",
   "execution_count": 19,
   "metadata": {},
   "outputs": [
    {
     "name": "stdout",
     "output_type": "stream",
     "text": [
      "3277.114666666669\n"
     ]
    }
   ],
   "source": [
    "print(np.sum((yhat - mu) ** 2) + sum(resid ** 2))"
   ]
  },
  {
   "cell_type": "code",
   "execution_count": 20,
   "metadata": {},
   "outputs": [
    {
     "name": "stdout",
     "output_type": "stream",
     "text": [
      "3277.1146666666655\n"
     ]
    }
   ],
   "source": [
    "print(np.sum((y - mu) ** 2))"
   ]
  },
  {
   "cell_type": "markdown",
   "metadata": {},
   "source": [
    "$$R^2 = 1 - {{\\sum_{i=1}^Nresiduals^2} \\over {\\sum_{i=1}^N(y - {\\mu})^2}}$$"
   ]
  },
  {
   "cell_type": "code",
   "execution_count": 21,
   "metadata": {},
   "outputs": [
    {
     "name": "stdout",
     "output_type": "stream",
     "text": [
      "r_squared: (equation 02): 0.5039593230611857\n"
     ]
    }
   ],
   "source": [
    "r_squared = 1 - np.sum(resid ** 2) / np.sum((y - mu) ** 2)\n",
    "print(f\"r_squared: (equation 02): {r_squared}\")"
   ]
  },
  {
   "cell_type": "markdown",
   "metadata": {},
   "source": [
    "5.1.13 수정된 결정계수\n",
    "\n",
    "- 독립변수의 수가 늘어나는 것에 대해 페널티를 적용한 **결정계수**를 수정된 결정계수라고 부릅니다.\n",
    "\n",
    "$$R^2 = 1 - {{\\sum_{i=1}^Nresiduals^2 / (N-s-1)} \\over {\\sum_{i=1}^N(y - {\\mu})^2 / (N-1)}}$$"
   ]
  },
  {
   "cell_type": "code",
   "execution_count": 22,
   "metadata": {},
   "outputs": [
    {
     "name": "stdout",
     "output_type": "stream",
     "text": [
      "r_squared_adj (equation): 0.48624358459908523\n"
     ]
    }
   ],
   "source": [
    "n = len(beer.beer)\n",
    "s = 1\n",
    "r_squared_adj = 1 - ((np.sum(resid ** 2)) / (n - s - 1)) / (np.sum((y - mu) ** 2) / (n - 1))\n",
    "print(f\"r_squared_adj (equation): {r_squared_adj}\")"
   ]
  },
  {
   "cell_type": "code",
   "execution_count": 23,
   "metadata": {},
   "outputs": [
    {
     "name": "stdout",
     "output_type": "stream",
     "text": [
      "r_squared_adj (lm_model): 0.4862435845990851\n"
     ]
    }
   ],
   "source": [
    "print(f\"r_squared_adj (lm_model): {lm_model.rsquared_adj}\")"
   ]
  },
  {
   "cell_type": "markdown",
   "metadata": {},
   "source": [
    "5.1.14 잔차 그래프"
   ]
  },
  {
   "cell_type": "code",
   "execution_count": 24,
   "metadata": {},
   "outputs": [
    {
     "data": {
      "text/plain": [
       "<AxesSubplot:ylabel='Density'>"
      ]
     },
     "execution_count": 24,
     "metadata": {},
     "output_type": "execute_result"
    },
    {
     "data": {
      "image/png": "[encoded data removed]",
      "text/plain": [
       "<Figure size 432x288 with 1 Axes>"
      ]
     },
     "metadata": {
      "needs_background": "light"
     },
     "output_type": "display_data"
    }
   ],
   "source": [
    "# sns.displot\n",
    "sns.distplot(resid)"
   ]
  },
  {
   "cell_type": "code",
   "execution_count": 25,
   "metadata": {},
   "outputs": [
    {
     "data": {
      "text/plain": [
       "<seaborn.axisgrid.FacetGrid at 0x19d9b1567c8>"
      ]
     },
     "execution_count": 25,
     "metadata": {},
     "output_type": "execute_result"
    },
    {
     "data": {
      "image/png": "[encoded data removed]",
      "text/plain": [
       "<Figure size 360x360 with 1 Axes>"
      ]
     },
     "metadata": {
      "needs_background": "light"
     },
     "output_type": "display_data"
    }
   ],
   "source": [
    "# sns.displot\n",
    "sns.displot(resid, stat=\"density\", kde=True)"
   ]
  },
  {
   "cell_type": "code",
   "execution_count": 26,
   "metadata": {},
   "outputs": [
    {
     "data": {
      "text/plain": [
       "<AxesSubplot:ylabel='Density'>"
      ]
     },
     "execution_count": 26,
     "metadata": {},
     "output_type": "execute_result"
    },
    {
     "data": {
      "image/png": "[encoded data removed]",
      "text/plain": [
       "<Figure size 432x288 with 1 Axes>"
      ]
     },
     "metadata": {
      "needs_background": "light"
     },
     "output_type": "display_data"
    }
   ],
   "source": [
    "# sns.histplot\n",
    "sns.histplot(resid, stat=\"density\", kde=True)"
   ]
  },
  {
   "cell_type": "code",
   "execution_count": 27,
   "metadata": {},
   "outputs": [
    {
     "data": {
      "text/plain": [
       "<matplotlib.legend.Legend at 0x19d9af5e048>"
      ]
     },
     "execution_count": 27,
     "metadata": {},
     "output_type": "execute_result"
    },
    {
     "data": {
      "image/png": "[encoded data removed]",
      "text/plain": [
       "<Figure size 432x432 with 3 Axes>"
      ]
     },
     "metadata": {
      "needs_background": "light"
     },
     "output_type": "display_data"
    }
   ],
   "source": [
    "graph = sns.jointplot(lm_model.fittedvalues, resid)\n",
    "\n",
    "r, p = stats.pearsonr(lm_model.fittedvalues, resid)\n",
    "\n",
    "phantom, = graph.ax_joint.plot([], [], linestyle=\"\", alpha=0)\n",
    "graph.ax_joint.legend([phantom],[f'r={r:f}, p={p:f}'])"
   ]
  },
  {
   "cell_type": "markdown",
   "metadata": {},
   "source": [
    "5.1.15 Q-Q 플롯\n",
    "\n",
    "- 이론상의 분위점과 실제 데이터의 분위점을 산포도 그래프로 그린 것을 **Q-Q 플롯**이라고 합니다."
   ]
  },
  {
   "cell_type": "code",
   "execution_count": 28,
   "metadata": {},
   "outputs": [
    {
     "data": {
      "image/png": "[encoded data removed]",
      "text/plain": [
       "<Figure size 432x288 with 1 Axes>"
      ]
     },
     "metadata": {
      "needs_background": "light"
     },
     "output_type": "display_data"
    }
   ],
   "source": [
    "fig = sm.qqplot(resid, line=\"s\")"
   ]
  },
  {
   "cell_type": "code",
   "execution_count": 29,
   "metadata": {},
   "outputs": [
    {
     "data": {
      "text/plain": [
       "3    -17.200217\n",
       "21   -14.501481\n",
       "12    -9.710106\n",
       "4     -9.703971\n",
       "10    -7.664418\n",
       "dtype: float64"
      ]
     },
     "execution_count": 29,
     "metadata": {},
     "output_type": "execute_result"
    }
   ],
   "source": [
    "resid_sort = resid.sort_values()\n",
    "resid_sort.head()"
   ]
  },
  {
   "cell_type": "code",
   "execution_count": 30,
   "metadata": {},
   "outputs": [
    {
     "name": "stdout",
     "output_type": "stream",
     "text": [
      "[0.03225806 0.06451613 0.09677419 0.12903226 0.16129032 0.19354839\n",
      " 0.22580645 0.25806452 0.29032258 0.32258065 0.35483871 0.38709677\n",
      " 0.41935484 0.4516129  0.48387097 0.51612903 0.5483871  0.58064516\n",
      " 0.61290323 0.64516129 0.67741935 0.70967742 0.74193548 0.77419355\n",
      " 0.80645161 0.83870968 0.87096774 0.90322581 0.93548387 0.96774194]\n"
     ]
    }
   ],
   "source": [
    "# 이번에는 Q-Q 플롯을 직접 만들어보겠습니다.\n",
    "nobs = len(resid_sort)\n",
    "cdf = np.arange(1, nobs + 1) / (nobs + 1)\n",
    "print(cdf)"
   ]
  },
  {
   "cell_type": "code",
   "execution_count": 31,
   "metadata": {},
   "outputs": [
    {
     "name": "stdout",
     "output_type": "stream",
     "text": [
      "[-1.84859629 -1.51792916 -1.30015343 -1.13097761 -0.98916863 -0.86489436\n",
      " -0.75272879 -0.64932391 -0.55244258 -0.46049454 -0.37228936 -0.28689392\n",
      " -0.20354423 -0.12158738 -0.04044051  0.04044051  0.12158738  0.20354423\n",
      "  0.28689392  0.37228936  0.46049454  0.55244258  0.64932391  0.75272879\n",
      "  0.86489436  0.98916863  1.13097761  1.30015343  1.51792916  1.84859629]\n"
     ]
    }
   ],
   "source": [
    "ppf = stats.norm.ppf(cdf)\n",
    "print(ppf)"
   ]
  },
  {
   "cell_type": "code",
   "execution_count": 32,
   "metadata": {},
   "outputs": [
    {
     "data": {
      "text/plain": [
       "[<matplotlib.lines.Line2D at 0x19d9b4bc648>]"
      ]
     },
     "execution_count": 32,
     "metadata": {},
     "output_type": "execute_result"
    },
    {
     "data": {
      "image/png": "[encoded data removed]",
      "text/plain": [
       "<Figure size 432x288 with 1 Axes>"
      ]
     },
     "metadata": {
      "needs_background": "light"
     },
     "output_type": "display_data"
    }
   ],
   "source": [
    "plt.plot(ppf, resid_sort, 'bo')"
   ]
  },
  {
   "cell_type": "markdown",
   "metadata": {
    "collapsed": false
   },
   "source": [
    "참고문헌: \n",
    "\n",
    "[1] 파이썬으로 배우는 통계학 교과서; 바바 신야 지음, 윤옹식 옮김; 한빛미디어 (2020)"
   ]
  }
 ],
 "metadata": {
  "colab": {
   "collapsed_sections": [],
   "name": "chap05_01.ipynb",
   "provenance": []
  },
  "interpreter": {
   "hash": "6fd3abd944a776c12a16276977a01ef02f4739db3bcb0515bf87bc655718b495"
  },
  "kernelspec": {
   "display_name": "Python 3.7.9 64-bit",
   "name": "python3"
  },
  "language_info": {
   "codemirror_mode": {
    "name": "ipython",
    "version": 3
   },
   "file_extension": ".py",
   "mimetype": "text/x-python",
   "name": "python",
   "nbconvert_exporter": "python",
   "pygments_lexer": "ipython3",
   "version": "3.9.9"
  },
  "orig_nbformat": 4
 },
 "nbformat": 4,
 "nbformat_minor": 0
}
