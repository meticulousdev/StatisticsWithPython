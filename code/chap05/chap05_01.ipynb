{
 "cells": [
  {
   "cell_type": "markdown",
   "source": [
    "# Chapter 5 정규선형모델\r\n",
    "\r\n",
    "# 5.1 연속형 독립변수가 하나인 모델 (단순회귀) \r\n",
    "\r\n",
    "5.1.1 분석 준비"
   ],
   "metadata": {}
  },
  {
   "cell_type": "code",
   "execution_count": null,
   "source": [
    "# from google.colab import drive\r\n",
    "# drive.mount('/content/drive')\r\n",
    "\r\n",
    "# %cd /content/drive/MyDrive/Colab\\ Notebooks/StatisticsWithPython/code/chap05"
   ],
   "outputs": [],
   "metadata": {}
  },
  {
   "cell_type": "code",
   "execution_count": 1,
   "source": [
    "import numpy as np\r\n",
    "import pandas as pd\r\n",
    "import scipy as sp\r\n",
    "import scipy.stats as stats\r\n",
    "\r\n",
    "import matplotlib.pyplot as plt\r\n",
    "import seaborn as sns\r\n",
    "sns.set()\r\n",
    "\r\n",
    "import statsmodels.formula.api as smf\r\n",
    "import statsmodels.api as sm\r\n",
    "\r\n",
    "%matplotlib inline"
   ],
   "outputs": [],
   "metadata": {}
  },
  {
   "cell_type": "markdown",
   "source": [
    "5.1.2 데이터 읽어 들이기와 표시"
   ],
   "metadata": {}
  },
  {
   "cell_type": "code",
   "execution_count": 2,
   "source": [
    "beer = pd.read_csv(\"../../data/5-1-1-beer.csv\")\r\n",
    "print(beer.head())"
   ],
   "outputs": [
    {
     "output_type": "stream",
     "name": "stdout",
     "text": [
      "   beer  temperature\n",
      "0  45.3         20.5\n",
      "1  59.3         25.0\n",
      "2  40.4         10.0\n",
      "3  38.0         26.9\n",
      "4  37.0         15.8\n"
     ]
    }
   ],
   "metadata": {}
  },
  {
   "cell_type": "code",
   "execution_count": 9,
   "source": [
    "graph = sns.jointplot(x=\"temperature\", y=\"beer\", data=beer)\r\n",
    "\r\n",
    "x = beer[\"temperature\"]\r\n",
    "y = beer[\"beer\"]\r\n",
    "\r\n",
    "r, p = stats.pearsonr(x, y)\r\n",
    "\r\n",
    "phantom, = graph.ax_joint.plot([], [], linestyle=\"\", alpha=0)\r\n",
    "graph.ax_joint.legend([phantom],[f'r={r:f}, p={p:f}'])"
   ],
   "outputs": [
    {
     "output_type": "execute_result",
     "data": {
      "text/plain": [
       "<matplotlib.legend.Legend at 0x1ab74700448>"
      ]
     },
     "metadata": {},
     "execution_count": 9
    },
    {
     "output_type": "display_data",
     "data": {
      "image/png": "[encoded data removed]",
      "text/plain": [
       "<Figure size 432x432 with 3 Axes>"
      ]
     },
     "metadata": {
      "needs_background": "light"
     }
    }
   ],
   "metadata": {}
  },
  {
   "cell_type": "markdown",
   "source": [
    "5.1.3 모델 구축\r\n",
    "\r\n",
    "5.1.4 statsmodels를 이용한 모델링"
   ],
   "metadata": {}
  },
  {
   "cell_type": "code",
   "execution_count": null,
   "source": [
    "lm_model = smf.ols(formula = \"beer ~ tempature\", data=beer).fit()"
   ],
   "outputs": [],
   "metadata": {}
  }
 ],
 "metadata": {
  "orig_nbformat": 4,
  "language_info": {
   "name": "python",
   "version": "3.7.9",
   "mimetype": "text/x-python",
   "codemirror_mode": {
    "name": "ipython",
    "version": 3
   },
   "pygments_lexer": "ipython3",
   "nbconvert_exporter": "python",
   "file_extension": ".py"
  },
  "kernelspec": {
   "name": "python3",
   "display_name": "Python 3.7.9 64-bit"
  },
  "interpreter": {
   "hash": "5d874692de9bc9eeb727ddf948f6826ddf9dbe408169bde9441b83e678dc7e6c"
  }
 },
 "nbformat": 4,
 "nbformat_minor": 2
}