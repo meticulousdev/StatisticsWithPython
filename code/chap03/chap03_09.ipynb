{
 "cells": [
  {
   "cell_type": "markdown",
   "source": [
    "# 3.9 평균값의 차이 검정\r\n",
    "\r\n",
    "3.9.1 2집단 데이터에 대한 t검정\r\n",
    "\r\n",
    "3.9.2 대응표본 t검정\r\n",
    "\r\n",
    "3.9.3 분석 준비"
   ],
   "metadata": {}
  },
  {
   "cell_type": "code",
   "execution_count": 5,
   "source": [
    "import numpy as np\r\n",
    "import pandas as pd\r\n",
    "import scipy as sp\r\n",
    "import scipy.stats as stats\r\n",
    "\r\n",
    "import matplotlib.pyplot as plt\r\n",
    "import seaborn as sns\r\n",
    "sns.set()\r\n",
    "\r\n",
    "%matplotlib inline"
   ],
   "outputs": [],
   "metadata": {}
  },
  {
   "cell_type": "code",
   "execution_count": 6,
   "source": [
    "paired_test_data = pd.read_csv(\"../../data/3-9-1-paired-t-test.csv\")\r\n",
    "print(paired_test_data)"
   ],
   "outputs": [
    {
     "output_type": "stream",
     "name": "stdout",
     "text": [
      "  person medicine  body_temperature\n",
      "0      A   before              36.2\n",
      "1      B   before              36.2\n",
      "2      C   before              35.3\n",
      "3      D   before              36.1\n",
      "4      E   before              36.1\n",
      "5      A    after              36.8\n",
      "6      B    after              36.1\n",
      "7      C    after              36.8\n",
      "8      D    after              37.1\n",
      "9      E    after              36.9\n"
     ]
    }
   ],
   "metadata": {}
  },
  {
   "cell_type": "markdown",
   "source": [
    "3.9.4 대응표본 t검정(실습)$^{[2] [3]}$"
   ],
   "metadata": {}
  },
  {
   "cell_type": "code",
   "execution_count": 8,
   "source": [
    "# before_bo = paired_test_data[paired_test_data[\"medicine\"] == \"before\"][\"body_temperature\"]\r\n",
    "# after_bo = paired_test_data[paired_test_data[\"medicine\"] == \"after\"][\"body_temperature\"]\r\n",
    "\r\n",
    "before = paired_test_data.query('medicine == \"before\"')[\"body_temperature\"]\r\n",
    "after = paired_test_data.query('medicine == \"after\"')[\"body_temperature\"]\r\n",
    "\r\n",
    "before = np.array(before)\r\n",
    "after = np.array(after)\r\n",
    "\r\n",
    "diff = after - before\r\n",
    "print(diff)"
   ],
   "outputs": [
    {
     "output_type": "stream",
     "name": "stdout",
     "text": [
      "[ 0.6 -0.1  1.5  1.   0.8]\n"
     ]
    }
   ],
   "metadata": {}
  },
  {
   "cell_type": "code",
   "execution_count": 10,
   "source": [
    "print(stats.ttest_1samp(diff, 0))\r\n",
    "print(stats.ttest_rel(after, before))"
   ],
   "outputs": [
    {
     "output_type": "stream",
     "name": "stdout",
     "text": [
      "Ttest_1sampResult(statistic=2.901693483620596, pvalue=0.044043109730074276)\n",
      "Ttest_relResult(statistic=2.901693483620596, pvalue=0.044043109730074276)\n"
     ]
    }
   ],
   "metadata": {}
  },
  {
   "cell_type": "markdown",
   "source": [
    "3.9.5 독립표본 t검정$^{[1]}$\r\n",
    "\r\n",
    "$$t = {{\\hat{\\mu}_x - \\hat{\\mu}_y} \\over {\\sqrt{\\hat{\\sigma}_x^2/m + \\hat{\\sigma}_y^2/n}}}$$"
   ],
   "metadata": {}
  },
  {
   "cell_type": "markdown",
   "source": [
    "3.9.6 독립표본 t검정(실습)"
   ],
   "metadata": {}
  },
  {
   "cell_type": "code",
   "execution_count": 13,
   "source": [
    "mean_bef = np.mean(before)\r\n",
    "mean_aft = np.mean(after)\r\n",
    "\r\n",
    "sigma_bef = np.var(before, ddof=1)\r\n",
    "sigma_aft = np.var(after, ddof=1)\r\n",
    "\r\n",
    "m = len(before)\r\n",
    "n = len(after)\r\n",
    "\r\n",
    "t_value = (mean_aft - mean_bef) / np.sqrt(sigma_bef/m + sigma_aft/n)\r\n",
    "print(f\"t value: {t_value:.3f}\")\r\n",
    "print(stats.ttest_ind(after, before, equal_var=False))"
   ],
   "outputs": [
    {
     "output_type": "stream",
     "name": "stdout",
     "text": [
      "t value: 3.156\n",
      "Ttest_indResult(statistic=3.1557282344421034, pvalue=0.013484775682079892)\n"
     ]
    }
   ],
   "metadata": {}
  },
  {
   "cell_type": "markdown",
   "source": [
    "3.9.7 독립표본 t검정\r\n",
    "\r\n",
    "3.9.8 *p*해킹$^{[1]}$\r\n",
    "\r\n",
    "- *p*값을 자의적으로 변화시키는 것을 ***p*해킹**이라고 합니다.\r\n",
    "\r\n",
    "- **분석가라면 다른 것들은 아무렇게나 대한다고 하더라도 최소 한가지, 데이터만큼은 성실하게 대해달라고 부탁하고 싶습니다.**"
   ],
   "metadata": {}
  },
  {
   "cell_type": "markdown",
   "source": [
    "참고문헌: \r\n",
    "\r\n",
    "[1] 파이썬으로 배우는 통계학 교과서; 바바 신야 지음, 윤옹식 옮김; 한빛미디어 (2020)\r\n",
    "\r\n",
    "[2] stackoverflow - https://stackoverflow.com/questions/67341369/pandas-why-query-instead-of-bracket-operator\r\n",
    "\r\n",
    "[3] pandas - https://pandas.pydata.org/docs/reference/api/pandas.DataFrame.query.html"
   ],
   "metadata": {}
  }
 ],
 "metadata": {
  "orig_nbformat": 4,
  "language_info": {
   "name": "python",
   "version": "3.7.9",
   "mimetype": "text/x-python",
   "codemirror_mode": {
    "name": "ipython",
    "version": 3
   },
   "pygments_lexer": "ipython3",
   "nbconvert_exporter": "python",
   "file_extension": ".py"
  },
  "kernelspec": {
   "name": "python3",
   "display_name": "Python 3.7.9 64-bit"
  },
  "interpreter": {
   "hash": "8583b91673d3bad85aca63c6f7360ce3ed12c0ba8c24fa6d6aa5c6b34fc15765"
  }
 },
 "nbformat": 4,
 "nbformat_minor": 2
}