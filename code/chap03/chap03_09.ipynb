{
 "cells": [
  {
   "cell_type": "markdown",
   "source": [
    "# 3.9 평균값의 차이 검정\r\n",
    "\r\n",
    "3.9.1 2집단 데이터에 대한 t검정\r\n",
    "\r\n",
    "3.9.2 대응표본 t검정\r\n",
    "\r\n",
    "3.9.3 분석 준비"
   ],
   "metadata": {}
  },
  {
   "cell_type": "code",
   "execution_count": 5,
   "source": [
    "import numpy as np\r\n",
    "import pandas as pd\r\n",
    "import scipy as sp\r\n",
    "import scipy.stats as stats\r\n",
    "\r\n",
    "import matplotlib.pyplot as plt\r\n",
    "import seaborn as sns\r\n",
    "sns.set()\r\n",
    "\r\n",
    "%matplotlib inline"
   ],
   "outputs": [],
   "metadata": {}
  },
  {
   "cell_type": "code",
   "execution_count": 6,
   "source": [
    "paired_test_data = pd.read_csv(\"../../data/3-9-1-paired-t-test.csv\")\r\n",
    "print(paired_test_data)"
   ],
   "outputs": [
    {
     "output_type": "stream",
     "name": "stdout",
     "text": [
      "  person medicine  body_temperature\n",
      "0      A   before              36.2\n",
      "1      B   before              36.2\n",
      "2      C   before              35.3\n",
      "3      D   before              36.1\n",
      "4      E   before              36.1\n",
      "5      A    after              36.8\n",
      "6      B    after              36.1\n",
      "7      C    after              36.8\n",
      "8      D    after              37.1\n",
      "9      E    after              36.9\n"
     ]
    }
   ],
   "metadata": {}
  },
  {
   "cell_type": "markdown",
   "source": [
    "3.9.4 대응표본 t검정(실습)"
   ],
   "metadata": {}
  },
  {
   "cell_type": "code",
   "execution_count": 7,
   "source": [
    "# stackoverflow https://stackoverflow.com/questions/67341369/pandas-why-query-instead-of-bracket-operator\r\n",
    "# pandas query https://pandas.pydata.org/docs/reference/api/pandas.DataFrame.query.html\r\n",
    "\r\n",
    "# before_bo = paired_test_data[paired_test_data[\"medicine\"] == \"before\"][\"body_temperature\"]\r\n",
    "# after_bo = paired_test_data[paired_test_data[\"medicine\"] == \"after\"][\"body_temperature\"]\r\n",
    "\r\n",
    "before = paired_test_data.query('medicine == \"before\"')[\"body_temperature\"]\r\n",
    "after = paired_test_data.query('medicine == \"after\"')[\"body_temperature\"]\r\n",
    "\r\n",
    "before = np.array(before)\r\n",
    "after = np.array(after)"
   ],
   "outputs": [],
   "metadata": {}
  },
  {
   "cell_type": "code",
   "execution_count": null,
   "source": [],
   "outputs": [],
   "metadata": {}
  }
 ],
 "metadata": {
  "orig_nbformat": 4,
  "language_info": {
   "name": "python",
   "version": "3.7.9",
   "mimetype": "text/x-python",
   "codemirror_mode": {
    "name": "ipython",
    "version": 3
   },
   "pygments_lexer": "ipython3",
   "nbconvert_exporter": "python",
   "file_extension": ".py"
  },
  "kernelspec": {
   "name": "python3",
   "display_name": "Python 3.7.9 64-bit"
  },
  "interpreter": {
   "hash": "8583b91673d3bad85aca63c6f7360ce3ed12c0ba8c24fa6d6aa5c6b34fc15765"
  }
 },
 "nbformat": 4,
 "nbformat_minor": 2
}