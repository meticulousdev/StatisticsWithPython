{
 "cells": [
  {
   "cell_type": "markdown",
   "source": [
    "# 3.10 분할표 검정\r\n",
    "\r\n",
    "3.10.1 분할표를 사용할 때의 장점\r\n",
    "\r\n",
    "3.10.2 이 절에서 다룰 예제$^{[1]}$\r\n",
    "\r\n",
    "- 실제 관측된 데이터를 **관측도수**라고 합니다.\r\n",
    "\r\n",
    "**관측도수**\r\n",
    "\r\n",
    "버튼 색 | **클릭함** | **클릭하지 않음** | **합계**\r\n",
    ":---:|:-------:|:-----------:|:-----:\r\n",
    " 파랑  |   20    |     230     |  250\r\n",
    " 빨강  |   10    |     40      |   50\r\n",
    " 합계  |   30    |     270     |  300\r\n",
    "\r\n",
    "3.10.3 기대도수 구하기$^{[1]}$\r\n",
    "\r\n",
    "- 이때 기대되는 도수를 **기대도수**라고 합니다.\r\n",
    "\r\n",
    "**기대도수**\r\n",
    "\r\n",
    "버튼 색 | **클릭함** | **클릭하지 않음** | **합계**\r\n",
    ":---:|:-------:|:-----------:|:-----:\r\n",
    " 파랑  |   25    |     225     |  250\r\n",
    " 빨강  |    5    |     45      |   50\r\n",
    " 합계  |   30    |     270     |  300\r\n",
    "\r\n",
    "3.10.4 기대도수와의 차이 구하기$^{[1]}$\r\n",
    "\r\n",
    "$$ \\chi^2 = {\\sum_{i=1}^2}{\\sum_{i=j}^2} $$\r\n",
    "\r\n",
    "3.10.5 *p*값 계산"
   ],
   "metadata": {}
  },
  {
   "cell_type": "code",
   "execution_count": 1,
   "source": [
    "import numpy as np\r\n",
    "import pandas as pd\r\n",
    "import scipy as sp\r\n",
    "import scipy.stats as stats\r\n",
    "\r\n",
    "import matplotlib.pyplot as plt\r\n",
    "import seaborn as sns\r\n",
    "sns.set()\r\n",
    "\r\n",
    "%matplotlib inline"
   ],
   "outputs": [],
   "metadata": {}
  },
  {
   "cell_type": "code",
   "execution_count": 2,
   "source": [
    "print(f\"p-value: {1 - stats.chi2.cdf(x=6.667, df=1):.3f}\")"
   ],
   "outputs": [
    {
     "output_type": "stream",
     "name": "stdout",
     "text": [
      "p-value: 0.010\n"
     ]
    }
   ],
   "metadata": {}
  },
  {
   "cell_type": "markdown",
   "source": [
    "3.10.6 분할표 검정(실습)"
   ],
   "metadata": {}
  },
  {
   "cell_type": "code",
   "execution_count": 3,
   "source": [
    "click_data = pd.read_csv(\"../../data/3-10-1-click_data.csv\")\r\n",
    "print(click_data)"
   ],
   "outputs": [
    {
     "output_type": "stream",
     "name": "stdout",
     "text": [
      "  color  click  freq\n",
      "0  blue  click    20\n",
      "1  blue    not   230\n",
      "2   red  click    10\n",
      "3   red    not    40\n"
     ]
    }
   ],
   "metadata": {}
  },
  {
   "cell_type": "code",
   "execution_count": 4,
   "source": [
    "cross = pd.pivot_table(data=click_data, values=\"freq\", aggfunc=\"sum\", index=\"color\", columns=\"click\")\r\n",
    "print(cross)"
   ],
   "outputs": [
    {
     "output_type": "stream",
     "name": "stdout",
     "text": [
      "click  click  not\n",
      "color            \n",
      "blue      20  230\n",
      "red       10   40\n"
     ]
    }
   ],
   "metadata": {}
  },
  {
   "cell_type": "code",
   "execution_count": 5,
   "source": [
    "ret = stats.chi2_contingency(cross, correction=False)\r\n",
    "# Write python code"
   ],
   "outputs": [
    {
     "output_type": "stream",
     "name": "stdout",
     "text": [
      "X^2    : 6.667\n",
      "p-value: 0.010\n",
      "dof    : 1\n",
      "table  : \n",
      "[[ 25. 225.]\n",
      " [  5.  45.]]\n"
     ]
    }
   ],
   "metadata": {}
  },
  {
   "cell_type": "markdown",
   "source": [
    "참고문헌: \r\n",
    "\r\n",
    "[1] 파이썬으로 배우는 통계학 교과서; 바바 신야 지음, 윤옹식 옮김; 한빛미디어 (2020)"
   ],
   "metadata": {}
  }
 ],
 "metadata": {
  "orig_nbformat": 4,
  "language_info": {
   "name": "python",
   "version": "3.7.9",
   "mimetype": "text/x-python",
   "codemirror_mode": {
    "name": "ipython",
    "version": 3
   },
   "pygments_lexer": "ipython3",
   "nbconvert_exporter": "python",
   "file_extension": ".py"
  },
  "kernelspec": {
   "name": "python3",
   "display_name": "Python 3.7.9 64-bit"
  },
  "interpreter": {
   "hash": "8583b91673d3bad85aca63c6f7360ce3ed12c0ba8c24fa6d6aa5c6b34fc15765"
  }
 },
 "nbformat": 4,
 "nbformat_minor": 2
}